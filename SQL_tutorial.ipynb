{
 "cells": [
  {
   "cell_type": "markdown",
   "metadata": {},
   "source": [
    "# 1. Introduction to SQL\n",
    "\n",
    "SQL, which stands for Structured Query Language, is a language for interacting with data stored in something called a relational database.\n",
    "\n",
    "You can think of a relational database as a collection of tables. A table is just a set of rows and columns, like a spreadsheet, which represents exactly one type of entity. For example, a table might represent employees in a company or purchases made, but not both.\n",
    "\n",
    "Each row, or record, of a table contains information about a single entity. "
   ]
  },
  {
   "cell_type": "markdown",
   "metadata": {},
   "source": [
    "For this tutorial, we will use a movie database that contains information about different movies, actors and reviews and rolse for the movies. The database contains the following tables:\n",
    "\n",
    "- films\n",
    "- people\n",
    "- reviews\n",
    "- roles\n",
    "\n",
    "Lets have a quick look at the different tables:\n",
    "\n",
    "##### movies table\n",
    "\n",
    "Every row in the movies table consists of the following entries:\n",
    "\n",
    "- id\n",
    "- title\n",
    "- release_year\n",
    "- country\n",
    "- duration\n",
    "- language\n",
    "- certification\n",
    "- gross and \n",
    "- budget\n",
    "\n",
    "\n",
    "##### people table\n",
    "\n",
    "The people table consists of four columns:\n",
    "\n",
    "- id\n",
    "- name\n",
    "- birthdate and\n",
    "- deathdate\n",
    "\n",
    "##### reviews table\n",
    "\n",
    "The reviews table has the following columns:\n",
    "\n",
    "- id\n",
    "- film_id\n",
    "- num_users\n",
    "- num_critic\n",
    "- imdb_score\n",
    "- num_votes\n",
    "- facebook_likes\n",
    "\n",
    "Here we can see that the review table has a column named *film_id*, which connects the reviews to the films.\n",
    "\n",
    "##### roles  table\n",
    "\n",
    "The roles tells us which role peoples (*person_id*) had in a particular movie (*movie_id*).\n",
    "We find the following columns in the roles table:\n",
    "\n",
    "- id\n",
    "- film_id\n",
    "- person_id\n",
    "- role"
   ]
  },
  {
   "cell_type": "markdown",
   "metadata": {},
   "source": [
    "**In order to connect to the database, we will use sqlite3, which is a self-contained, serverless database engine.** <br>\n",
    "Lets start by importing sqlite3"
   ]
  },
  {
   "cell_type": "code",
   "execution_count": 36,
   "metadata": {},
   "outputs": [],
   "source": [
    "import sqlite3"
   ]
  },
  {
   "cell_type": "markdown",
   "metadata": {},
   "source": [
    "Next, we will set up a simple class, that can connect and query a database.\n",
    "For better visualization, we use the Python pandas library."
   ]
  },
  {
   "cell_type": "code",
   "execution_count": 95,
   "metadata": {},
   "outputs": [],
   "source": [
    "import pandas as pd\n",
    "\n",
    "class DB:  \n",
    "    \n",
    "    def __init__(self, db_path = \"data/films.db\"):\n",
    "        \n",
    "        \"\"\"\n",
    "        Class initializer\n",
    "        \n",
    "        Args\n",
    "            dp_path (str): Path to database file\n",
    "        Returns\n",
    "            None\n",
    "        \"\"\"\n",
    "        self.db_path = db_path\n",
    "        self.conn = sqlite3.connect(db_path)\n",
    "        self.conn.text_factory = str \n",
    "    \n",
    "    def query(self, q, return_result = False):\n",
    "        \"\"\"\n",
    "        queries the database\n",
    "        \n",
    "        Args\n",
    "            q (str): query string\n",
    "            return_result (bool): return query result if TRUE\n",
    "        Returns\n",
    "            query_result (tuple): tuples containig the query results\n",
    "         \n",
    "        \"\"\"\n",
    "        \n",
    "        query_result = pd.read_sql_query(q, self.conn)\n",
    "        \n",
    "        if return_result: return query_result\n",
    "         \n",
    "        print(query_result)    \n",
    "    \n",
    "    def open_conn(self):\n",
    "        \"\"\"\n",
    "        open db connection\n",
    "        \n",
    "        Args\n",
    "            None\n",
    "        Returns\n",
    "            None         \n",
    "        \"\"\"\n",
    "        \n",
    "        self.conn = sqlite3.connect(self.db_path)\n",
    "        \n",
    "    def close_conn(self):\n",
    "        \"\"\"\n",
    "        close db connection\n",
    "        \n",
    "        Args\n",
    "            None\n",
    "        Returns\n",
    "            None         \n",
    "        \"\"\"\n",
    "        \n",
    "        self.conn.close()\n",
    "        \n",
    "    "
   ]
  },
  {
   "cell_type": "code",
   "execution_count": 96,
   "metadata": {},
   "outputs": [],
   "source": [
    "db = DB(db_path = \"data/films.db\")"
   ]
  },
  {
   "cell_type": "markdown",
   "metadata": {},
   "source": [
    "## Selecting columns"
   ]
  },
  {
   "cell_type": "markdown",
   "metadata": {},
   "source": [
    "### Selecting single columns\n",
    "\n",
    "While SQL can be used to create and modify databases, the focus of this tutorial will be querying databases. A query is a request for data from a database table (or combination of tables). \n",
    "\n",
    "In SQL, you can select data from a table using a **SELECT** statement. \n",
    "\n",
    "```sql\n",
    "SELECT column\n",
    "FROM table;\n",
    "```"
   ]
  },
  {
   "cell_type": "code",
   "execution_count": 97,
   "metadata": {},
   "outputs": [
    {
     "name": "stdout",
     "output_type": "stream",
     "text": [
      "                    name\n",
      "0                50 Cent\n",
      "1     A. Michael Baldwin\n",
      "2          A. Raven Cruz\n",
      "3           A.J. Buckley\n",
      "4           A.J. DeLucia\n",
      "...                  ...\n",
      "8392         Zohra Segal\n",
      "8393     Zooey Deschanel\n",
      "8394       Zoran Lisinac\n",
      "8395       Zubaida Sahar\n",
      "8396       Zuhair Haddad\n",
      "\n",
      "[8397 rows x 1 columns]\n"
     ]
    }
   ],
   "source": [
    "q = \"SELECT name from people\"\n",
    "\n",
    "db.query(q)"
   ]
  },
  {
   "cell_type": "code",
   "execution_count": 98,
   "metadata": {},
   "outputs": [
    {
     "name": "stdout",
     "output_type": "stream",
     "text": [
      "                                                 title\n",
      "0     Intolerance: Love's Struggle Throughout the Ages\n",
      "1                       Over the Hill to the Poorhouse\n",
      "2                                       The Big Parade\n",
      "3                                           Metropolis\n",
      "4                                        Pandora's Box\n",
      "...                                                ...\n",
      "4963                                       Unforgotten\n",
      "4964                                             Wings\n",
      "4965                                        Wolf Creek\n",
      "4966                                 Wuthering Heights\n",
      "4967                           Yu-Gi-Oh! Duel Monsters\n",
      "\n",
      "[4968 rows x 1 columns]\n"
     ]
    }
   ],
   "source": [
    "q = \"SELECT title FROM films\"\n",
    "db.query(q)"
   ]
  },
  {
   "cell_type": "code",
   "execution_count": 99,
   "metadata": {},
   "outputs": [
    {
     "name": "stdout",
     "output_type": "stream",
     "text": [
      "     release_year\n",
      "0            1916\n",
      "1            1920\n",
      "2            1925\n",
      "3            1927\n",
      "4            1929\n",
      "...           ...\n",
      "4963         null\n",
      "4964         null\n",
      "4965         null\n",
      "4966         null\n",
      "4967         null\n",
      "\n",
      "[4968 rows x 1 columns]\n"
     ]
    }
   ],
   "source": [
    "q = \"SELECT release_year FROM films\"\n",
    "\n",
    "db.query(q)"
   ]
  },
  {
   "cell_type": "markdown",
   "metadata": {},
   "source": [
    "### Selecting multiple columns\n",
    "\n",
    "Well done! Now you know how to select single columns.\n",
    "\n",
    "In the real world, you will often want to select multiple columns. Luckily, SQL makes this really easy. <br>\n",
    "To select multiple columns from a table, simply separate the column names with commas!\n",
    "\n",
    "For example, this query selects two columns, name and birthdate, from the people table:\n",
    "\n",
    "```sql\n",
    "SELECT name, birthdate\n",
    "FROM people;\n",
    "```\n",
    "\n",
    "Sometimes, you may want to select all columns from a table. Typing out every column name would be a pain, so there's a handy shortcut:\n",
    "\n",
    "```sql\n",
    "SELECT *\n",
    "FROM people;\n",
    "```\n",
    "\n",
    "If you only want to return a certain number of results, you can use the LIMIT keyword to limit the number of rows returned:\n",
    "\n",
    "```sql\n",
    "SELECT *\n",
    "FROM people\n",
    "LIMIT 10;\n",
    "```"
   ]
  },
  {
   "cell_type": "code",
   "execution_count": 100,
   "metadata": {},
   "outputs": [
    {
     "name": "stdout",
     "output_type": "stream",
     "text": [
      "                                              title  release_year\n",
      "0  Intolerance: Love's Struggle Throughout the Ages          1916\n",
      "1                    Over the Hill to the Poorhouse          1920\n",
      "2                                    The Big Parade          1925\n",
      "3                                        Metropolis          1927\n",
      "4                                     Pandora's Box          1929\n",
      "5                               The Broadway Melody          1929\n",
      "6                                     Hell's Angels          1930\n",
      "7                                A Farewell to Arms          1932\n",
      "8                                       42nd Street          1933\n",
      "9                                She Done Him Wrong          1933\n"
     ]
    }
   ],
   "source": [
    "#Select both title and year and return the first 10 entries\n",
    "q = \"SELECT title, release_year FROM films LIMIT 10\"\n",
    "db.query(q)"
   ]
  },
  {
   "cell_type": "markdown",
   "metadata": {},
   "source": [
    "### Select distinct\n",
    "\n",
    "Often your results will include many duplicate values. If you want to select all the unique values from a column, you can use the DISTINCT keyword.\n",
    "\n",
    "This might be useful if, for example, you're interested in knowing which languages are represented in the films table:\n",
    "\n",
    "```sql\n",
    "SELECT DISTINCT language\n",
    "FROM films;\n",
    "```"
   ]
  },
  {
   "cell_type": "markdown",
   "metadata": {},
   "source": [
    "Lets get all different countries contained in the films table..."
   ]
  },
  {
   "cell_type": "code",
   "execution_count": 101,
   "metadata": {},
   "outputs": [
    {
     "name": "stdout",
     "output_type": "stream",
     "text": [
      "     country\n",
      "0        USA\n",
      "1    Germany\n",
      "2      Japan\n",
      "3    Denmark\n",
      "4         UK\n",
      "..       ...\n",
      "60     Kenya\n",
      "61  Slovenia\n",
      "62  Pakistan\n",
      "63     Chile\n",
      "64    Panama\n",
      "\n",
      "[65 rows x 1 columns]\n"
     ]
    }
   ],
   "source": [
    "#Select all unique countries from the films table\n",
    "q = \"SELECT DISTINCT country FROM films\"\n",
    "db.query(q)"
   ]
  },
  {
   "cell_type": "markdown",
   "metadata": {},
   "source": [
    "We can see that there are 65 different countries in the films table."
   ]
  },
  {
   "cell_type": "markdown",
   "metadata": {},
   "source": [
    "We can also take a look at the *roles* table, to get all different roles that a person can have in a movie."
   ]
  },
  {
   "cell_type": "code",
   "execution_count": 102,
   "metadata": {},
   "outputs": [
    {
     "name": "stdout",
     "output_type": "stream",
     "text": [
      "       role\n",
      "0  director\n",
      "1     actor\n"
     ]
    }
   ],
   "source": [
    "#Select all unique roles from the roles table\n",
    "q = \"SELECT DISTINCT role FROM roles\"\n",
    "db.query(q)"
   ]
  },
  {
   "cell_type": "markdown",
   "metadata": {},
   "source": [
    "A person in a movie is either been labeled as an actor or as the director of the movie."
   ]
  },
  {
   "cell_type": "markdown",
   "metadata": {},
   "source": [
    "### Learning to count\n",
    "What if you want to count the number of persons in your people table? The **COUNT()** function lets you do this by returning the number of rows in one or more columns.\n",
    "\n",
    "The syntax for the COUNT() function is:\n",
    "\n",
    "```sql\n",
    "SELECT COUNT(column)\n",
    "FROM table;\n",
    "```\n",
    "\n",
    "Lets count the number of persons in the people table...."
   ]
  },
  {
   "cell_type": "code",
   "execution_count": 103,
   "metadata": {},
   "outputs": [
    {
     "name": "stdout",
     "output_type": "stream",
     "text": [
      "   COUNT(*)\n",
      "0      8397\n"
     ]
    }
   ],
   "source": [
    "#Count the number of unique actors \n",
    "q = \"SELECT COUNT(*) FROM people\"\n",
    "db.query(q)"
   ]
  },
  {
   "cell_type": "markdown",
   "metadata": {},
   "source": [
    "The COUNT() function can also be applied on a single column"
   ]
  },
  {
   "cell_type": "code",
   "execution_count": 104,
   "metadata": {},
   "outputs": [
    {
     "name": "stdout",
     "output_type": "stream",
     "text": [
      "   COUNT(birthdate)\n",
      "0              8397\n",
      "   COUNT(DISTINCT(birthdate))\n",
      "0                        5399\n"
     ]
    }
   ],
   "source": [
    "#Count the number of unique actors \n",
    "q = \"SELECT COUNT(birthdate) FROM people\"\n",
    "db.query(q)\n",
    "\n",
    "\n",
    "#Count the number of unique actors \n",
    "q = \"SELECT COUNT(DISTINCT(birthdate)) FROM people\"\n",
    "db.query(q)"
   ]
  },
  {
   "cell_type": "markdown",
   "metadata": {},
   "source": [
    "**Note** The COUNT() function used on a particular column returns the number of non-missing values."
   ]
  },
  {
   "cell_type": "markdown",
   "metadata": {},
   "source": [
    "## Filtering rows"
   ]
  },
  {
   "cell_type": "markdown",
   "metadata": {},
   "source": [
    "This part of the tutorial will focus on filtering query results.\n",
    "\n",
    "In SQL, the **WHERE** keyword allows you to filter based on both text and numeric values in a table. There are a few different comparison operators you can use:\n",
    "\n",
    "- *=* equal\n",
    "- <> not equal\n",
    "- < less than\n",
    "- *>* greater than\n",
    "- <= less than or equal to\n",
    "- *>=* greater than or equal to\n",
    "\n",
    "```sql\n",
    "SELECT column\n",
    "FROM table\n",
    "WHERE condition1 = condition2;\n",
    "```\n",
    "\n",
    "**Note** Notice that the WHERE clause always comes after the FROM statement!"
   ]
  },
  {
   "cell_type": "markdown",
   "metadata": {},
   "source": [
    "For example, you can filter text records such as title. The following code returns all films with the title 'Metropolis':"
   ]
  },
  {
   "cell_type": "code",
   "execution_count": 105,
   "metadata": {},
   "outputs": [
    {
     "name": "stdout",
     "output_type": "stream",
     "text": [
      "        title  release_year\n",
      "0  Metropolis          1927\n"
     ]
    }
   ],
   "source": [
    "q = \"SELECT title, release_year FROM films \\\n",
    "    WHERE title = 'Metropolis'\"\n",
    "db.query(q)"
   ]
  },
  {
   "cell_type": "markdown",
   "metadata": {},
   "source": [
    "Or get all movies that were released later than the year 2000."
   ]
  },
  {
   "cell_type": "code",
   "execution_count": 106,
   "metadata": {},
   "outputs": [
    {
     "name": "stdout",
     "output_type": "stream",
     "text": [
      "                             title\n",
      "0                       15 Minutes\n",
      "1          3000 Miles to Graceland\n",
      "2                 A Beautiful Mind\n",
      "3                  A Knight's Tale\n",
      "4     A.I. Artificial Intelligence\n",
      "...                            ...\n",
      "3455                   Unforgotten\n",
      "3456                         Wings\n",
      "3457                    Wolf Creek\n",
      "3458             Wuthering Heights\n",
      "3459       Yu-Gi-Oh! Duel Monsters\n",
      "\n",
      "[3460 rows x 1 columns]\n"
     ]
    }
   ],
   "source": [
    "q = \"SELECT title FROM films \\\n",
    "    WHERE release_year > 2000\"\n",
    "db.query(q)"
   ]
  },
  {
   "cell_type": "markdown",
   "metadata": {},
   "source": [
    "### Filtering numeric values\n",
    "As you learned in the previous exercise, the WHERE clause can also be used to filter numeric records, such as years or ages.\n",
    "\n",
    "For example, the following query selects all details for films with a budget over ten thousand dollars:"
   ]
  },
  {
   "cell_type": "code",
   "execution_count": 107,
   "metadata": {},
   "outputs": [
    {
     "name": "stdout",
     "output_type": "stream",
     "text": [
      "        id                                             title release_year  \\\n",
      "0        1  Intolerance: Love's Struggle Throughout the Ages         1916   \n",
      "1        2                    Over the Hill to the Poorhouse         1920   \n",
      "2        3                                    The Big Parade         1925   \n",
      "3        4                                        Metropolis         1927   \n",
      "4        5                                     Pandora's Box         1929   \n",
      "...    ...                                               ...          ...   \n",
      "4951  4964                                       Unforgotten         null   \n",
      "4952  4965                                             Wings         null   \n",
      "4953  4966                                        Wolf Creek         null   \n",
      "4954  4967                                 Wuthering Heights         null   \n",
      "4955  4968                           Yu-Gi-Oh! Duel Monsters         null   \n",
      "\n",
      "        country duration  language certification    gross   budget  \n",
      "0           USA      123      null     Not Rated     null   385907  \n",
      "1           USA      110      null          null  3000000   100000  \n",
      "2           USA      151      null     Not Rated     null   245000  \n",
      "3       Germany      145    German     Not Rated    26435  6000000  \n",
      "4       Germany      110    German     Not Rated     9950     null  \n",
      "...         ...      ...       ...           ...      ...      ...  \n",
      "4951         UK       45   English          null     null     null  \n",
      "4952        USA       30   English          null     null     null  \n",
      "4953  Australia     null   English          null     null     null  \n",
      "4954         UK      142   English          null     null     null  \n",
      "4955      Japan       24  Japanese          null     null     null  \n",
      "\n",
      "[4956 rows x 9 columns]\n"
     ]
    }
   ],
   "source": [
    "q = \"SELECT * FROM films \\\n",
    "    WHERE budget > 10000\"\n",
    "db.query(q)"
   ]
  },
  {
   "cell_type": "markdown",
   "metadata": {},
   "source": [
    "### Filtering text\n",
    "\n",
    "Remember, the WHERE clause can also be used to filter text results, such as names or countries.\n",
    "\n",
    "For example, this query gets the titles of all films which were filmed in China:"
   ]
  },
  {
   "cell_type": "code",
   "execution_count": 108,
   "metadata": {},
   "outputs": [
    {
     "name": "stdout",
     "output_type": "stream",
     "text": [
      "                                          title\n",
      "0                              The Last Emperor\n",
      "1                                          Hero\n",
      "2                                          Hero\n",
      "3                       House of Flying Daggers\n",
      "4                                   The Promise\n",
      "5                                   Crazy Stone\n",
      "6                    Curse of the Golden Flower\n",
      "7                              The Painted Veil\n",
      "8                                     Red Cliff\n",
      "9    Three Kingdoms: Resurrection of the Dragon\n",
      "10             A Woman, a Gun and a Noodle Shop\n",
      "11             A Woman, a Gun and a Noodle Shop\n",
      "12                     Bodyguards and Assassins\n",
      "13                       City of Life and Death\n",
      "14                             Silver Medallist\n",
      "15                           Reign of Assassins\n",
      "16                                         1911\n",
      "17                     Legend of Kung Fu Rabbit\n",
      "18               Snow Flower and the Secret Fan\n",
      "19                           The Flowers of War\n",
      "20                                    Firestorm\n",
      "21                                My Lucky Star\n",
      "22                               Out of Inferno\n",
      "23                                  Coming Home\n",
      "24                  Dragon Nest: Warriors' Dawn\n",
      "25                               Kung Fu Killer\n",
      "26                       A Tale of Three Cities\n",
      "27                                 Dragon Blade\n",
      "28           Mission: Impossible - Rogue Nation\n",
      "29  Xi you ji zhi: Sun Wukong san da Baigu Jing\n"
     ]
    }
   ],
   "source": [
    "q = \"SELECT title \\\n",
    "    FROM films\\\n",
    "    WHERE country = 'China';\"\n",
    "db.query(q)"
   ]
  },
  {
   "cell_type": "markdown",
   "metadata": {},
   "source": [
    "### WHERE and AND\n",
    "\n",
    "Often, you'll want to select data based on multiple conditions. You can build up your WHERE queries by combining multiple conditions with the AND keyword.\n",
    "\n",
    "```sql\n",
    "SELECT title\n",
    "FROM films\n",
    "WHERE release_year > 1994\n",
    "AND release_year < 2000;\n",
    "```\n",
    "\n",
    "gives you the titles of films released between 1994 and 2000.\n",
    "\n",
    "Note that you need to specify the column name separately for every AND condition!"
   ]
  },
  {
   "cell_type": "code",
   "execution_count": 109,
   "metadata": {},
   "outputs": [
    {
     "name": "stdout",
     "output_type": "stream",
     "text": [
      "                            title  release_year\n",
      "0  Ace Ventura: When Nature Calls          1995\n",
      "1                       Apollo 13          1995\n",
      "2                       Assassins          1995\n",
      "3                            Babe          1995\n",
      "4                        Bad Boys          1995\n",
      "5                            Bang          1995\n",
      "6                  Batman Forever          1995\n",
      "7                  Before Sunrise          1995\n",
      "8                      Braveheart          1995\n",
      "9                          Casino          1995\n"
     ]
    }
   ],
   "source": [
    "q = \"SELECT title, release_year\\\n",
    "    FROM films\\\n",
    "    WHERE release_year > 1994\\\n",
    "    AND release_year < 2000\\\n",
    "    LIMIT 10;\"\n",
    "\n",
    "db.query(q)"
   ]
  },
  {
   "cell_type": "markdown",
   "metadata": {},
   "source": [
    "We can also filter all spanish movies released between 2000 and 2010."
   ]
  },
  {
   "cell_type": "code",
   "execution_count": 110,
   "metadata": {},
   "outputs": [
    {
     "name": "stdout",
     "output_type": "stream",
     "text": [
      "     id                                     title  release_year    country  \\\n",
      "0  1695                         Y Tu Mamá También          2001     Mexico   \n",
      "1  1757                 El crimen del padre Amaro          2002     Mexico   \n",
      "2  1807                        Mondays in the Sun          2002      Spain   \n",
      "3  2173                              Live-In Maid          2004  Argentina   \n",
      "4  2175                       Maria Full of Grace          2004   Colombia   \n",
      "5  2246                             The Holy Girl          2004  Argentina   \n",
      "6  2263                            The Sea Inside          2004      Spain   \n",
      "7  2458                       The Legend of Zorro          2005        USA   \n",
      "8  2542  Captain Alatriste: The Spanish Musketeer          2006      Spain   \n",
      "9  2646                           Pan's Labyrinth          2006      Spain   \n",
      "\n",
      "   duration language certification     gross    budget  \n",
      "0       106  Spanish             R  13622333   2000000  \n",
      "1       118  Spanish             R   5709616   1800000  \n",
      "2       113  Spanish             R    146402   4000000  \n",
      "3        83  Spanish       Unrated      null    800000  \n",
      "4       101  Spanish             R   6517198   3000000  \n",
      "5       106  Spanish             R    304124   1400000  \n",
      "6       125  Spanish         PG-13   2086345  10000000  \n",
      "7       129  Spanish            PG  45356386  75000000  \n",
      "8       145  Spanish          null      null  24000000  \n",
      "9       112  Spanish             R  37623143  13500000  \n"
     ]
    }
   ],
   "source": [
    "q = \"SELECT *\\\n",
    "    FROM films\\\n",
    "    WHERE language = 'Spanish'\\\n",
    "    AND release_year > 2000\\\n",
    "    AND release_year < 2010\\\n",
    "    LIMIT 10;\"\n",
    "\n",
    "db.query(q)"
   ]
  },
  {
   "cell_type": "markdown",
   "metadata": {},
   "source": [
    "### WHERE and OR\n",
    "\n",
    "What if you want to select rows based on multiple conditions where some but not all of the conditions need to be met? <br> For this, SQL has the **OR** operator.\n",
    "\n",
    "For example, the following returns all films released in either 1994 or 2000:\n",
    "\n",
    "```sql\n",
    "SELECT title\n",
    "FROM films\n",
    "WHERE release_year = 1994\n",
    "OR release_year = 2000;\n",
    "```\n",
    "\n",
    "When combining AND and OR, be sure to enclose the individual clauses in parentheses, like so:\n",
    "\n",
    "```sql\n",
    "SELECT title\n",
    "FROM films\n",
    "WHERE (release_year = 1994 OR release_year = 1995)\n",
    "AND (certification = 'PG' OR certification = 'R');\n",
    "```"
   ]
  },
  {
   "cell_type": "markdown",
   "metadata": {},
   "source": [
    "### Putting it together: WHERE, AND and OR\n",
    "\n",
    "Now that we've learned how to filter with the WHERE statement, or with a combination of WHERE, AND and OR, lets put all of this together into a single query that returns all movies with a language \"French\" OR \"Spanish\", released between 1990 and 2000, with more than 2.000.000 million dollar gross."
   ]
  },
  {
   "cell_type": "code",
   "execution_count": 111,
   "metadata": {},
   "outputs": [
    {
     "name": "stdout",
     "output_type": "stream",
     "text": [
      "            title  release_year\n",
      "0     El Mariachi          1992\n",
      "1  The Red Violin          1998\n"
     ]
    }
   ],
   "source": [
    "q  = \"SELECT title, release_year\\\n",
    "    FROM films\\\n",
    "    WHERE (release_year >= 1990 AND release_year < 2000)\\\n",
    "    AND (language = 'French' OR language = 'Spanish')\\\n",
    "    AND gross > 2000000\"\n",
    "db.query(q)"
   ]
  },
  {
   "cell_type": "markdown",
   "metadata": {},
   "source": [
    "### BETWEEN\n",
    "\n",
    "As you've learned, you can use the following query to get titles of all films released in and between 1994 and 2000:\n",
    "\n",
    "```sql\n",
    "SELECT title\n",
    "FROM films\n",
    "WHERE release_year >= 1994\n",
    "AND release_year <= 2000;\n",
    "```\n",
    "\n",
    "Checking for ranges like this is very common, so in SQL the **BETWEEN** keyword provides a useful shorthand for filtering values within a specified range. This query is equivalent to the one above:\n",
    "\n",
    "```sql\n",
    "SELECT title\n",
    "FROM films\n",
    "WHERE release_year\n",
    "BETWEEN 1994 AND 2000;\n",
    "```\n",
    "\n",
    "**Note** It's important to remember that BETWEEN is inclusive, meaning the beginning and end values are included in the results!"
   ]
  },
  {
   "cell_type": "code",
   "execution_count": 112,
   "metadata": {},
   "outputs": [
    {
     "name": "stdout",
     "output_type": "stream",
     "text": [
      "                        title\n",
      "0          3 Ninjas Kick Back\n",
      "1      A Low Down Dirty Shame\n",
      "2  Ace Ventura: Pet Detective\n",
      "3              Baby's Day Out\n",
      "4       Beverly Hills Cop III\n",
      "5       Bullets Over Broadway\n",
      "6    Clear and Present Danger\n",
      "7                      Clerks\n",
      "8                    Crooklyn\n",
      "9                  Disclosure\n"
     ]
    }
   ],
   "source": [
    "q  = \"SELECT title\\\n",
    "    FROM films\\\n",
    "    WHERE release_year\\\n",
    "    BETWEEN 1994 AND 2000\\\n",
    "    LIMIT 10;\"\n",
    "db.query(q)"
   ]
  },
  {
   "cell_type": "code",
   "execution_count": 113,
   "metadata": {},
   "outputs": [
    {
     "name": "stdout",
     "output_type": "stream",
     "text": [
      "                                     title  release_year\n",
      "0                 The Horseman on the Roof          1995\n",
      "1           The Chambermaid on the Titanic          1997\n",
      "2  Les couloirs du temps: Les visiteurs II          1998\n",
      "3                                    Tango          1998\n"
     ]
    }
   ],
   "source": [
    "q = \"SELECT title, release_year\\\n",
    "    FROM films\\\n",
    "    WHERE release_year BETWEEN 1990 AND 2000\\\n",
    "    AND budget > 100000000\\\n",
    "    AND (language = 'Spanish' OR language = 'French');\"\n",
    "db.query(q)"
   ]
  },
  {
   "cell_type": "markdown",
   "metadata": {},
   "source": [
    "The above query returns all Spanish or French language films released between 1990 and 2000, with a budget of more than 10.000.000 million dollars."
   ]
  },
  {
   "cell_type": "markdown",
   "metadata": {},
   "source": [
    "### WHERE IN\n",
    "\n",
    "As you've seen, WHERE is very useful for filtering results. However, if you want to filter based on many conditions, WHERE can get unwieldy. For example:\n",
    "\n",
    "```sql\n",
    "SELECT name\n",
    "FROM kids\n",
    "WHERE age = 2\n",
    "OR age = 4\n",
    "OR age = 6\n",
    "OR age = 8\n",
    "OR age = 10;\n",
    "```\n",
    "\n",
    "The **IN** operator allows you to specify multiple values in a WHERE clause, making it easier and quicker to specify multiple OR conditions! \n",
    "\n",
    "So, the above example would become simply:\n",
    "\n",
    "```sql\n",
    "SELECT name\n",
    "FROM kids\n",
    "WHERE age IN (2, 4, 6, 8, 10);\n",
    "```"
   ]
  },
  {
   "cell_type": "markdown",
   "metadata": {},
   "source": [
    "Get the title and release year of all films released in 1990 or 2000 that were longer than two hours. Notice that duration is given in minutes!"
   ]
  },
  {
   "cell_type": "code",
   "execution_count": 114,
   "metadata": {},
   "outputs": [
    {
     "name": "stdout",
     "output_type": "stream",
     "text": [
      "                         title  release_year\n",
      "0           Dances with Wolves          1990\n",
      "1                   Die Hard 2          1990\n",
      "2                        Ghost          1990\n",
      "3                   Goodfellas          1990\n",
      "4             Mo' Better Blues          1990\n",
      "5                 Pretty Woman          1990\n",
      "6      The Godfather: Part III          1990\n",
      "7     The Hunt for Red October          1990\n",
      "8        All the Pretty Horses          2000\n",
      "9                Almost Famous          2000\n",
      "10                  Bamboozled          2000\n",
      "11                   Cast Away          2000\n",
      "12                    Chocolat          2000\n",
      "13          Dancer in the Dark          2000\n",
      "14             Erin Brockovich          2000\n",
      "15           Finding Forrester          2000\n",
      "16                        Fiza          2000\n",
      "17                   Gladiator          2000\n",
      "18       Gone in Sixty Seconds          2000\n",
      "19      Hum To Mohabbat Karega          2000\n",
      "20           Keeping the Faith          2000\n",
      "21           Love & Basketball          2000\n",
      "22                Men of Honor          2000\n",
      "23      Mission: Impossible II          2000\n",
      "24                Pandaemonium          2000\n",
      "25              Pay It Forward          2000\n",
      "26                     Pollock          2000\n",
      "27               Proof of Life          2000\n",
      "28                      Quills          2000\n",
      "29              Reindeer Games          2000\n",
      "30               Space Cowboys          2000\n",
      "31                 The 6th Day          2000\n",
      "32               The Contender          2000\n",
      "33              The Family Man          2000\n",
      "34          The House of Mirth          2000\n",
      "35  The Legend of Bagger Vance          2000\n",
      "36                 The Patriot          2000\n",
      "37           The Perfect Storm          2000\n",
      "38               Thirteen Days          2000\n",
      "39                     Traffic          2000\n",
      "40              Vertical Limit          2000\n",
      "41           What Lies Beneath          2000\n",
      "42             What Women Want          2000\n"
     ]
    }
   ],
   "source": [
    "q  = \"SELECT title, release_year\\\n",
    "    FROM films\\\n",
    "    WHERE release_year IN (1990, 2000)\\\n",
    "    AND duration > 120;\"\n",
    "db.query(q)"
   ]
  },
  {
   "cell_type": "markdown",
   "metadata": {},
   "source": [
    "Get the title and language of all films which were in English, Spanish, or French."
   ]
  },
  {
   "cell_type": "code",
   "execution_count": 115,
   "metadata": {},
   "outputs": [
    {
     "name": "stdout",
     "output_type": "stream",
     "text": [
      "                    title language\n",
      "0     The Broadway Melody  English\n",
      "1           Hell's Angels  English\n",
      "2      A Farewell to Arms  English\n",
      "3             42nd Street  English\n",
      "4      She Done Him Wrong  English\n",
      "...                   ...      ...\n",
      "4742              Twisted  English\n",
      "4743          Unforgotten  English\n",
      "4744                Wings  English\n",
      "4745           Wolf Creek  English\n",
      "4746    Wuthering Heights  English\n",
      "\n",
      "[4747 rows x 2 columns]\n"
     ]
    }
   ],
   "source": [
    "q = \"SELECT title, language \\\n",
    "    FROM films \\\n",
    "    WHERE language IN ('English', 'Spanish', 'French')\"\n",
    "db.query(q)"
   ]
  },
  {
   "cell_type": "markdown",
   "metadata": {},
   "source": [
    "### Introduction to NULL and IS NULL\n",
    "\n",
    "In SQL, NULL represents a missing or unknown value. You can check for NULL values using the expression **IS NULL**. For example, to count the number of missing values in a column of a specific table, we can write:\n",
    "\n",
    "```sql\n",
    "SELECT COUNT(*)\n",
    "FROM table\n",
    "WHERE column IS NULL;\n",
    "```\n",
    "\n",
    "As you can see, IS NULL is useful when combined with WHERE to figure out what data you're missing.\n",
    "\n",
    "Sometimes, you'll want to filter out missing values so you only get results which are not NULL. To do this, you can use the **IS NOT NULL** operator.\n",
    "\n",
    "For example, this query gives the names of all people whose birth dates are not missing in the people table.\n",
    "\n",
    "```sql\n",
    "SELECT column\n",
    "FROM table\n",
    "WHERE column IS NOT NULL;\n",
    "```"
   ]
  },
  {
   "cell_type": "code",
   "execution_count": 165,
   "metadata": {},
   "outputs": [
    {
     "name": "stdout",
     "output_type": "stream",
     "text": [
      "Empty DataFrame\n",
      "Columns: [name, deathdate]\n",
      "Index: []\n"
     ]
    }
   ],
   "source": [
    "#Get the number of films which don't have a language associated with them.\n",
    "q  = \"SELECT name, deathdate\\\n",
    "    FROM people\\\n",
    "    WHERE deathdate IS NULL\"\n",
    "\n",
    "db.query(q)"
   ]
  },
  {
   "cell_type": "markdown",
   "metadata": {},
   "source": [
    "### LIKE and NOT LIKE\n",
    "\n",
    "As you've seen, the WHERE clause can be used to filter text data. However, so far you've only been able to filter by specifying the exact text you're interested in. In the real world, often you'll want to search for a pattern rather than a specific text string.\n",
    "\n",
    "In SQL, the LIKE operator can be used in a WHERE clause to search for a pattern in a column. To accomplish this, you use something called a wildcard as a placeholder for some other values. There are two wildcards you can use with LIKE:\n",
    "\n",
    "The % wildcard will match zero, one, or many characters in text. For example, the following query matches companies like 'Data', 'DataC' 'DataCamp', 'DataMind', and so on:\n",
    "\n",
    "```sql\n",
    "SELECT name\n",
    "FROM companies\n",
    "WHERE name LIKE 'Data%';\n",
    "```\n",
    "\n",
    "The _ wildcard will match a single character. For example, the following query matches companies like 'DataCamp', 'DataComp', and so on:\n",
    "\n",
    "```sql\n",
    "SELECT name\n",
    "FROM companies\n",
    "WHERE name LIKE 'DataC_mp';\n",
    "```\n",
    "\n",
    "You can also use the NOT LIKE operator to find records that don't match the pattern you specify."
   ]
  },
  {
   "cell_type": "code",
   "execution_count": 123,
   "metadata": {},
   "outputs": [
    {
     "name": "stdout",
     "output_type": "stream",
     "text": [
      "                            title\n",
      "0                  Love Me Tender\n",
      "1                    Love Letters\n",
      "2     Love and Other Catastrophes\n",
      "3   Love and Death on Long Island\n",
      "4                      Love Jones\n",
      "5                     Love Stinks\n",
      "6               Love & Basketball\n",
      "7                Lovely & Amazing\n",
      "8                   Love Actually\n",
      "9              Love's Abiding Joy\n",
      "10               Loving Annabelle\n",
      "11    Love in the Time of Cholera\n",
      "12                  Lovely, Still\n",
      "13                   Love Happens\n",
      "14             Love & Other Drugs\n",
      "15                     Love Ranch\n",
      "16   Love in the Time of Monsters\n",
      "17               Love the Coopers\n",
      "18                       Lovesick\n"
     ]
    }
   ],
   "source": [
    "q  = \"SELECT title \\\n",
    "    FROM films\\\n",
    "    WHERE title LIKE 'Lov%';\"\n",
    "db.query(q)"
   ]
  },
  {
   "cell_type": "markdown",
   "metadata": {},
   "source": [
    "Get the names of people whose names have 'r' as the second letter. The pattern you need is '_r%'."
   ]
  },
  {
   "cell_type": "code",
   "execution_count": 126,
   "metadata": {},
   "outputs": [
    {
     "name": "stdout",
     "output_type": "stream",
     "text": [
      "                  name\n",
      "0             Ara Celi\n",
      "1        Aramis Knight\n",
      "2    Arben Bajraktaraj\n",
      "3      Arcelia Ramírez\n",
      "4           Archie Kao\n",
      "..                 ...\n",
      "527        Troy Garity\n",
      "528        Troy Miller\n",
      "529         Troy Nixey\n",
      "530     Ursula Andress\n",
      "531      Wray Crawford\n",
      "\n",
      "[532 rows x 1 columns]\n"
     ]
    }
   ],
   "source": [
    "q = \"SELECT name\\\n",
    "    FROM people\\\n",
    "    WHERE name LIKE '_r%'\"\n",
    "\n",
    "db.query(q)"
   ]
  },
  {
   "cell_type": "markdown",
   "metadata": {},
   "source": [
    "Get the names of people whose names don't start with A. The pattern you need is 'A%'."
   ]
  },
  {
   "cell_type": "code",
   "execution_count": 128,
   "metadata": {},
   "outputs": [
    {
     "name": "stdout",
     "output_type": "stream",
     "text": [
      "                    name\n",
      "0                50 Cent\n",
      "1            Álex Angulo\n",
      "2     Álex de la Iglesia\n",
      "3          Ángela Molina\n",
      "4             B.J. Novak\n",
      "...                  ...\n",
      "7763         Zohra Segal\n",
      "7764     Zooey Deschanel\n",
      "7765       Zoran Lisinac\n",
      "7766       Zubaida Sahar\n",
      "7767       Zuhair Haddad\n",
      "\n",
      "[7768 rows x 1 columns]\n"
     ]
    }
   ],
   "source": [
    "q = \"SELECT name\\\n",
    "    FROM people\\\n",
    "    WHERE name NOT lIKE 'A%'\"\n",
    "db.query(q)"
   ]
  },
  {
   "cell_type": "markdown",
   "metadata": {},
   "source": [
    "## Aggregate functions\n",
    "\n",
    "Often, you will want to perform some calculation on the data in a database. SQL provides a few functions, called aggregate functions, to help you out with this.\n",
    "\n",
    "For example,\n",
    "\n",
    "```sql\n",
    "SELECT AVG(budget)\n",
    "FROM films;\n",
    "```\n",
    "\n",
    "gives you the average value from the budget column of the films table. Similarly, the MAX() function returns the highest budget:\n",
    "\n",
    "```sql\n",
    "SELECT MAX(budget)\n",
    "FROM films;\n",
    "```\n",
    "\n",
    "The SUM() function returns the result of adding up the numeric values in a column:\n",
    "\n",
    "```sql\n",
    "SELECT SUM(budget)\n",
    "FROM films;\n",
    "```\n",
    "You can probably guess what the MIN() function does! Now it's your turn to try out some SQL functions."
   ]
  },
  {
   "cell_type": "code",
   "execution_count": 178,
   "metadata": {},
   "outputs": [
    {
     "name": "stdout",
     "output_type": "stream",
     "text": [
      "   AVG(rating)\n",
      "0     6.179646\n"
     ]
    }
   ],
   "source": [
    "q  = \"SELECT AVG(rating)\\\n",
    "    FROM ratings;\"\n",
    "db.query(q)"
   ]
  },
  {
   "cell_type": "code",
   "execution_count": 179,
   "metadata": {},
   "outputs": [
    {
     "name": "stdout",
     "output_type": "stream",
     "text": [
      "   MAX(rating)\n",
      "0         10.0\n"
     ]
    }
   ],
   "source": [
    "q  = \"SELECT MAX(rating)\\\n",
    "    FROM ratings;\"\n",
    "db.query(q)"
   ]
  },
  {
   "cell_type": "code",
   "execution_count": 182,
   "metadata": {
    "scrolled": true
   },
   "outputs": [
    {
     "name": "stdout",
     "output_type": "stream",
     "text": [
      "   MIN(rating)\n",
      "0          1.0\n"
     ]
    }
   ],
   "source": [
    "q  = \"SELECT MIN(rating)\\\n",
    "    FROM ratings;\"\n",
    "db.query(q)"
   ]
  },
  {
   "cell_type": "code",
   "execution_count": 183,
   "metadata": {},
   "outputs": [
    {
     "name": "stdout",
     "output_type": "stream",
     "text": [
      "   SUM(rating)\n",
      "0    1155822.5\n"
     ]
    }
   ],
   "source": [
    "q  = \"SELECT SUM(rating)\\\n",
    "    FROM ratings;\"\n",
    "db.query(q)"
   ]
  },
  {
   "cell_type": "markdown",
   "metadata": {},
   "source": [
    "### Combining aggregate functions with WHERE\n",
    "Aggregate functions can be combined with the WHERE clause to gain further insights from your data.\n",
    "\n",
    "For example, to get the total budget of movies made in the year 2010 or later"
   ]
  },
  {
   "cell_type": "code",
   "execution_count": 129,
   "metadata": {},
   "outputs": [
    {
     "name": "stdout",
     "output_type": "stream",
     "text": [
      "    SUM(budget)\n",
      "0  5.493658e+10\n"
     ]
    }
   ],
   "source": [
    "q = \"SELECT SUM(budget)\\\n",
    "    FROM films\\\n",
    "    WHERE release_year >= 2010;\"\n",
    "db.query(q)"
   ]
  },
  {
   "cell_type": "code",
   "execution_count": 130,
   "metadata": {},
   "outputs": [
    {
     "name": "stdout",
     "output_type": "stream",
     "text": [
      "  max(gross)\n",
      "0       null\n"
     ]
    }
   ],
   "source": [
    "q = \"SELECT max(gross)\\\n",
    "    FROM films\\\n",
    "    WHERE release_year between 2000 and 2012\"\n",
    "\n",
    "db.query(q)"
   ]
  },
  {
   "cell_type": "markdown",
   "metadata": {},
   "source": [
    "### It's AS simple AS aliasing\n",
    "You may have noticed in the first exercise of this chapter that the column name of your result was just the name of the function you used. For example,\n",
    "\n",
    "```sql\n",
    "SELECT MAX(budget)\n",
    "FROM films;\n",
    "```\n",
    "\n",
    "gives you a result with one column, named max. But what if you use two functions like this?\n",
    "\n",
    "```sql\n",
    "SELECT MAX(budget), MAX(duration)\n",
    "FROM films;\n",
    "```\n",
    "\n",
    "Well, then you'd have two columns named max, which isn't very useful!\n",
    "\n",
    "To avoid situations like this, SQL allows you to do something called aliasing. Aliasing simply means you assign a temporary name to something. To alias, you use the AS keyword, which you've already seen earlier in this course.\n",
    "\n",
    "For example, in the above example we could use aliases to make the result clearer:\n",
    "\n",
    "```sql\n",
    "SELECT MAX(budget) AS max_budget,\n",
    "       MAX(duration) AS max_duration\n",
    "FROM films;\n",
    "```\n",
    "\n",
    "Aliases are helpful for making results more readable!"
   ]
  },
  {
   "cell_type": "markdown",
   "metadata": {},
   "source": [
    "## Sorting and grouping"
   ]
  },
  {
   "cell_type": "markdown",
   "metadata": {},
   "source": [
    "### ORDER BY\n",
    "Congratulations on making it this far! You now know how to select and filter your results.\n",
    "\n",
    "In this chapter you'll learn how to sort and group your results to gain further insight. Let's go!\n",
    "\n",
    "In SQL, the **ORDER BY** keyword is used to sort results in ascending or descending order according to the values of one or more columns.\n",
    "\n",
    "```sql\n",
    "SELECT column\n",
    "FROM table\n",
    "ORDER BY column;\n",
    "```\n",
    "\n",
    "By default ORDER BY will sort in ascending order. If you want to sort the results in descending order, you can use the *DESC* keyword:\n",
    "\n",
    "```sql\n",
    "SELECT column\n",
    "FROM table\n",
    "ORDER BY column DESC;\n",
    "```"
   ]
  },
  {
   "cell_type": "markdown",
   "metadata": {},
   "source": [
    "To order results in descending order, you can put the keyword DESC after your ORDER BY. For example, to get all the names in the people table, in reverse alphabetical order:\n",
    "\n",
    "```sql\n",
    "SELECT name\n",
    "FROM people\n",
    "ORDER BY name DESC;\n",
    "```\n",
    "\n",
    "Now practice using ORDER BY with DESC to sort single columns in descending order!"
   ]
  },
  {
   "cell_type": "code",
   "execution_count": 132,
   "metadata": {},
   "outputs": [
    {
     "name": "stdout",
     "output_type": "stream",
     "text": [
      "                                              title  release_year\n",
      "0  Intolerance: Love's Struggle Throughout the Ages          1916\n",
      "1                    Over the Hill to the Poorhouse          1920\n",
      "2                                    The Big Parade          1925\n",
      "3                                        Metropolis          1927\n",
      "4                                     Pandora's Box          1929\n",
      "5                               The Broadway Melody          1929\n",
      "6                                     Hell's Angels          1930\n",
      "7                                A Farewell to Arms          1932\n",
      "8                                       42nd Street          1933\n",
      "9                                She Done Him Wrong          1933\n"
     ]
    }
   ],
   "source": [
    "q  = \"SELECT title, release_year\\\n",
    "    FROM films\\\n",
    "    ORDER BY release_year\\\n",
    "    LIMIT 10;\"\n",
    "db.query(q)"
   ]
  },
  {
   "cell_type": "code",
   "execution_count": 134,
   "metadata": {},
   "outputs": [
    {
     "name": "stdout",
     "output_type": "stream",
     "text": [
      "                           title release_year\n",
      "0                    10,000 B.C.         null\n",
      "1               A Touch of Frost         null\n",
      "2               Anger Management         null\n",
      "3                 Animal Kingdom         null\n",
      "4                      BrainDead         null\n",
      "5                         Carlos         null\n",
      "6                       Creature         null\n",
      "7             Deadline Gallipoli         null\n",
      "8  Del 1 - Män som hatar kvinnor         null\n",
      "9                           Emma         null\n"
     ]
    }
   ],
   "source": [
    "q  = \"SELECT title, release_year\\\n",
    "    FROM films\\\n",
    "    ORDER BY release_year DESC\\\n",
    "    LIMIT 10;\"\n",
    "db.query(q)"
   ]
  },
  {
   "cell_type": "code",
   "execution_count": 136,
   "metadata": {},
   "outputs": [
    {
     "name": "stdout",
     "output_type": "stream",
     "text": [
      "       birthdate              name\n",
      "0     1837-10-10       Robert Shaw\n",
      "1     1872-11-07  Lucille La Verne\n",
      "2     1874-03-14         Mary Carr\n",
      "3     1875-01-22     D.W. Griffith\n",
      "4     1878-01-20     Finlay Currie\n",
      "...          ...               ...\n",
      "8392        null         Zoe Levin\n",
      "8393        null      Zoe Ventoura\n",
      "8394        null     Zoran Lisinac\n",
      "8395        null     Zubaida Sahar\n",
      "8396        null     Zuhair Haddad\n",
      "\n",
      "[8397 rows x 2 columns]\n"
     ]
    }
   ],
   "source": [
    "q = \"SELECT birthdate, name\\\n",
    "    FROM people\\\n",
    "    ORDER BY birthdate\"\n",
    "\n",
    "db.query(q)"
   ]
  },
  {
   "cell_type": "code",
   "execution_count": 139,
   "metadata": {},
   "outputs": [
    {
     "name": "stdout",
     "output_type": "stream",
     "text": [
      "      imdb_score  film_id\n",
      "0            9.5     4960\n",
      "1            9.3      742\n",
      "2            9.2      178\n",
      "3            9.1     4866\n",
      "4            9.0     3110\n",
      "...          ...      ...\n",
      "4963         1.9     2226\n",
      "4964         1.9     2984\n",
      "4965         1.9     2452\n",
      "4966         1.7     3941\n",
      "4967         1.6     3750\n",
      "\n",
      "[4968 rows x 2 columns]\n"
     ]
    }
   ],
   "source": [
    "q = \"SELECT imdb_score, film_id\\\n",
    "    FROM reviews\\\n",
    "    ORDER BY imdb_score DESC\"\n",
    "\n",
    "db.query(q)"
   ]
  },
  {
   "cell_type": "markdown",
   "metadata": {},
   "source": [
    "### Sorting multiple columns\n",
    "ORDER BY can also be used to sort on multiple columns. It will sort by the first column specified, then sort by the next, then the next, and so on. For example,\n",
    "\n",
    "```sql\n",
    "SELECT birthdate, name\n",
    "FROM people\n",
    "ORDER BY birthdate, name;\n",
    "```\n",
    "\n",
    "sorts on birth dates first (oldest to newest) and then sorts on the names in alphabetical order. The order of columns is important!\n",
    "\n",
    "Try using ORDER BY to sort multiple columns! Remember, to specify multiple columns you separate the column names with a comma."
   ]
  },
  {
   "cell_type": "code",
   "execution_count": 140,
   "metadata": {},
   "outputs": [
    {
     "name": "stdout",
     "output_type": "stream",
     "text": [
      "   release_year                                             title\n",
      "0          1916  Intolerance: Love's Struggle Throughout the Ages\n",
      "1          1920                    Over the Hill to the Poorhouse\n",
      "2          1925                                    The Big Parade\n",
      "3          1927                                        Metropolis\n",
      "4          1929                                     Pandora's Box\n",
      "5          1929                               The Broadway Melody\n",
      "6          1930                                     Hell's Angels\n",
      "7          1932                                A Farewell to Arms\n",
      "8          1933                                       42nd Street\n",
      "9          1933                                She Done Him Wrong\n"
     ]
    }
   ],
   "source": [
    "q  = \"SELECT release_year, title\\\n",
    "    FROM films\\\n",
    "    ORDER BY release_year, title\\\n",
    "    LIMIT 10;\"\n",
    "db.query(q)"
   ]
  },
  {
   "cell_type": "markdown",
   "metadata": {},
   "source": [
    "### GROUP BY\n",
    "\n",
    "Now you know how to sort results! <br>\n",
    "\n",
    "Often you'll need to aggregate results. For example, you might want to count the number of male and female employees in your company. Here, what you want is to group all the males together and count them, and group all the females together and count them. In SQL, **GROUP BY** allows you to group a result by one or more columns, like so:\n",
    "\n",
    "```sql\n",
    "SELECT sex, count(*)\n",
    "FROM employees\n",
    "GROUP BY sex;\n",
    "```\n",
    "\n",
    "The resulting could look like this:\n",
    "\n",
    "|sex   |count|\n",
    "|------|-----|\n",
    "|male  |15   |\n",
    "|female|19   |\n",
    "\n",
    "**NOTE** Commonly, GROUP BY is used with aggregate functions like COUNT() or MAX(). Note that GROUP BY always goes after the FROM clause!"
   ]
  },
  {
   "cell_type": "markdown",
   "metadata": {},
   "source": [
    "Now, lets get the release year and largest budget for all films, grouped by release year."
   ]
  },
  {
   "cell_type": "code",
   "execution_count": 141,
   "metadata": {},
   "outputs": [
    {
     "name": "stdout",
     "output_type": "stream",
     "text": [
      "   release_year max(budget)\n",
      "0          1916      385907\n",
      "1          1920      100000\n",
      "2          1925      245000\n",
      "3          1927     6000000\n",
      "4          1929        null\n",
      "..          ...         ...\n",
      "87         2013        null\n",
      "88         2014        null\n",
      "89         2015        null\n",
      "90         2016        null\n",
      "91         null        null\n",
      "\n",
      "[92 rows x 2 columns]\n"
     ]
    }
   ],
   "source": [
    "#Group movies by their ratings and count the number of movies per group\n",
    "q  = \"SELECT release_year, max(budget)\\\n",
    "    FROM films\\\n",
    "    group by release_year\"\n",
    "    \n",
    "db.query(q)"
   ]
  },
  {
   "cell_type": "markdown",
   "metadata": {},
   "source": [
    "Get the country, release year, and lowest amount grossed per release year per country. Order your results by country and release year."
   ]
  },
  {
   "cell_type": "code",
   "execution_count": 142,
   "metadata": {},
   "outputs": [
    {
     "name": "stdout",
     "output_type": "stream",
     "text": [
      "          country release_year MIN(gross)\n",
      "0     Afghanistan         2003    1127331\n",
      "1       Argentina         2000    1221261\n",
      "2       Argentina         2004     304124\n",
      "3       Argentina         2009   20167424\n",
      "4           Aruba         1998   10076136\n",
      "..            ...          ...        ...\n",
      "500  West Germany         1967       null\n",
      "501  West Germany         1981   11433134\n",
      "502  West Germany         1984       null\n",
      "503          null         2014       null\n",
      "504          null         null       null\n",
      "\n",
      "[505 rows x 3 columns]\n"
     ]
    }
   ],
   "source": [
    "q = \"SELECT country, release_year, MIN(gross)\\\n",
    "    FROM films\\\n",
    "    GROUP BY release_year, country\\\n",
    "    ORDER BY country, release_year\"\n",
    "db.query(q)"
   ]
  },
  {
   "cell_type": "markdown",
   "metadata": {},
   "source": [
    "Note that you can combine GROUP BY with ORDER BY to group your results, calculate something about them, and then order your results. For example,\n",
    "\n",
    "```sql\n",
    "SELECT sex, count(*)\n",
    "FROM employees\n",
    "GROUP BY sex\n",
    "ORDER BY count DESC;\n",
    "```"
   ]
  },
  {
   "cell_type": "markdown",
   "metadata": {},
   "source": [
    "### HAVING a great time\n",
    "\n",
    "In SQL, aggregate functions can't be used in WHERE clauses. For example, the following query is invalid:\n",
    "\n",
    "```sql\n",
    "SELECT release_year\n",
    "FROM films\n",
    "GROUP BY release_year\n",
    "WHERE COUNT(title) > 10;\n",
    "```\n",
    "\n",
    "This means that if you want to filter based on the result of an aggregate function, you need another way! That's where the HAVING clause comes in. For example,\n",
    "\n",
    "```sql\n",
    "SELECT release_year\n",
    "FROM films\n",
    "GROUP BY release_year\n",
    "HAVING COUNT(title) > 10;\n",
    "```\n",
    "\n",
    "shows only those years in which more than 10 films were released."
   ]
  },
  {
   "cell_type": "markdown",
   "metadata": {},
   "source": [
    "Now you're going to write a query that returns the average budget and average gross earnings for films in each year after 1990, if the average budget is greater than $60 million."
   ]
  },
  {
   "cell_type": "code",
   "execution_count": 144,
   "metadata": {},
   "outputs": [
    {
     "name": "stdout",
     "output_type": "stream",
     "text": [
      "   release_year    avg_budget     avg_gross\n",
      "0          2005  6.459620e+07  3.780681e+07\n",
      "1          2006  8.409824e+07  3.561083e+07\n"
     ]
    }
   ],
   "source": [
    "#Get all title and years that have a title longer than 10 characters\n",
    "q  = \"SELECT release_year, AVG(budget) AS avg_budget, AVG(gross) AS avg_gross\\\n",
    "    FROM films\\\n",
    "    WHERE release_year > 1990\\\n",
    "    GROUP BY release_year\\\n",
    "    HAVING AVG(budget) > 60000000\"\n",
    "    \n",
    "db.query(q)"
   ]
  },
  {
   "cell_type": "markdown",
   "metadata": {},
   "source": [
    "# 2. Joining data with SQL\n",
    "\n",
    "As the name suggests, the focus of this course is using SQL to join two or more database tables together into a single table, an essential skill for data scientists. In this chapter, you'll learn about the INNER JOIN, which along with LEFT JOIN are probably the two most common JOINs."
   ]
  },
  {
   "cell_type": "markdown",
   "metadata": {},
   "source": [
    "## INNER JOIN\n",
    "\n",
    "Let's begin with a diagram showing the layout of some data and then how an INNER JOIN can be applied to that data.\n",
    "\n",
    "\n",
    "<figure>\n",
    "  <img src=\"images/INNER_JOIN_1.png\" alt=\"INNER JOIN\" style=\"width:20%\">\n",
    "  <figcaption>Fig. - We take two tables we want to join. A left table and a right table .</figcaption>\n",
    "</figure>\n",
    "\n",
    "You can see that matching values of the id field are colored with the same color. The id field is known as a KEY field since it can be used to reference one table to another. Both the left and right tables also have another field named val. This will be useful in helping you see specifically which records and values are included in each join.\n",
    "\n",
    "3. INNER JOIN diagram\n",
    "An INNER JOIN only includes records in which the key is in both tables. \n",
    "\n",
    "<figure>\n",
    "  <img src=\"images/INNER_JOIN_2.png\" alt=\"INNER JOIN\" style=\"width:20%\">\n",
    "  <figcaption>Fig. - An inner join only returns records in which the key is found in both the right and the left table.</figcaption>\n",
    "</figure>\n",
    "\n",
    "You can see here that the id field matches for values of 1 and 4 only. With inner joins we look for matches in the right table corresponding to all entries in the key field in the left table.\n",
    "\n",
    "<figure>\n",
    "  <img src=\"images/INNER_JOIN_3.png\" alt=\"INNER JOIN\" style=\"width:20%\">\n",
    "  <figcaption>Fig. - Records that do not match are excluded.</figcaption>\n",
    "</figure>\n",
    "\n",
    "So the focus here shifts to only those records with a match in terms of the id field. The records not of interest to INNER JOIN have been faded.\n",
    "\n",
    "Here's a resulting single table from the INNER JOIN clause that gives the val field from the right table with records corresponding to only those with id value of 1 or 4, which are colored as yellow and purple. \n",
    "\n",
    "\n",
    "<figure>\n",
    "  <img src=\"images/INNER_JOIN_4.png\" alt=\"INNER JOIN\" style=\"width:20%\">\n",
    "  <figcaption>Fig. - Result of the inner join.</figcaption>\n",
    "</figure>\n",
    "\n",
    "Recall from the video the basic syntax for an INNER JOIN, here including all columns in both tables:\n",
    "\n",
    "```sql\n",
    "SELECT *\n",
    "FROM left_table\n",
    "INNER JOIN right_table\n",
    "ON left_table.id = right_table.id;\n",
    "```\n",
    "\n",
    "Instead of writing the full table name, you can use table aliasing as a shortcut. For tables you also use AS to add the alias immediately after the table name with a space. Check out the aliasing of cities and countries below.\n",
    "\n",
    "```sql\n",
    "SELECT lt.colum AS c1, rt.column AS c2\n",
    "FROM left_table AS c1\n",
    "INNER JOIN right_table AS c2\n",
    "ON c1.id = c2.id;\n",
    "```\n",
    "\n",
    "Notice that to select a field in your query that appears in multiple tables, you'll need to identify which table/table alias you're referring to by using a . in your SELECT statement."
   ]
  },
  {
   "cell_type": "markdown",
   "metadata": {},
   "source": [
    "Throughout this tutorial, we'll be working with the countries database containing information about the most populous world cities as well as country-level economic data, population data, and geographic data. This countries database also contains information on languages spoken in each country.\n",
    "\n",
    "Lets connect to the database..."
   ]
  },
  {
   "cell_type": "code",
   "execution_count": 209,
   "metadata": {},
   "outputs": [],
   "source": [
    "db_countries = DB(db_path = \"data/countries.db\")"
   ]
  },
  {
   "cell_type": "markdown",
   "metadata": {},
   "source": [
    "We will now use an INNER JOIN to join the city table with the country table, by matching cities and their corresponding countries using the code column, which is defined as code in the city table and country_code in th country table."
   ]
  },
  {
   "cell_type": "code",
   "execution_count": 210,
   "metadata": {},
   "outputs": [
    {
     "name": "stdout",
     "output_type": "stream",
     "text": [
      "            name                  name\n",
      "0        Abidjan         Cote d'Ivoire\n",
      "1      Abu Dhabi  United Arab Emirates\n",
      "2          Abuja               Nigeria\n",
      "3          Accra                 Ghana\n",
      "4    Addis Ababa              Ethiopia\n",
      "..           ...                   ...\n",
      "225      Yerevan               Armenia\n",
      "226     Yokohama                 Japan\n",
      "227    Zhengzhou                 China\n",
      "228    Zhongshan                 China\n",
      "229        Zunyi                 China\n",
      "\n",
      "[230 rows x 2 columns]\n"
     ]
    }
   ],
   "source": [
    "q = \"SELECT cities.name, countries.name\\\n",
    "    FROM cities\\\n",
    "    INNER JOIN countries\\\n",
    "    ON cities.country_code = countries.code\"\n",
    "\n",
    "db_countries.query(q)"
   ]
  },
  {
   "cell_type": "markdown",
   "metadata": {},
   "source": [
    "That worked just fine, but there is one problem with the output. Both columns of the joined table now have the same column name **name**. When using larger tables and multiple joins, the results will be hard to read.\n",
    "To avoid this problem, we should use aliases."
   ]
  },
  {
   "cell_type": "code",
   "execution_count": 211,
   "metadata": {},
   "outputs": [
    {
     "name": "stdout",
     "output_type": "stream",
     "text": [
      "            city               country\n",
      "0        Abidjan         Cote d'Ivoire\n",
      "1      Abu Dhabi  United Arab Emirates\n",
      "2          Abuja               Nigeria\n",
      "3          Accra                 Ghana\n",
      "4    Addis Ababa              Ethiopia\n",
      "..           ...                   ...\n",
      "225      Yerevan               Armenia\n",
      "226     Yokohama                 Japan\n",
      "227    Zhengzhou                 China\n",
      "228    Zhongshan                 China\n",
      "229        Zunyi                 China\n",
      "\n",
      "[230 rows x 2 columns]\n"
     ]
    }
   ],
   "source": [
    "q = \"SELECT cities.name AS city, countries.name AS country\\\n",
    "    FROM cities\\\n",
    "    INNER JOIN countries\\\n",
    "    ON cities.country_code = countries.code\"\n",
    "\n",
    "db_countries.query(q)"
   ]
  },
  {
   "cell_type": "markdown",
   "metadata": {},
   "source": [
    "That looks better! Now the first column has the name **city**, and the second column has the name **country**. <br>\n",
    "We can even simplify further by assigning aliases to the table names itself."
   ]
  },
  {
   "cell_type": "code",
   "execution_count": 216,
   "metadata": {},
   "outputs": [
    {
     "name": "stdout",
     "output_type": "stream",
     "text": [
      "            city               country\n",
      "0        Abidjan         Cote d'Ivoire\n",
      "1      Abu Dhabi  United Arab Emirates\n",
      "2          Abuja               Nigeria\n",
      "3          Accra                 Ghana\n",
      "4    Addis Ababa              Ethiopia\n",
      "..           ...                   ...\n",
      "225      Yerevan               Armenia\n",
      "226     Yokohama                 Japan\n",
      "227    Zhengzhou                 China\n",
      "228    Zhongshan                 China\n",
      "229        Zunyi                 China\n",
      "\n",
      "[230 rows x 2 columns]\n"
     ]
    }
   ],
   "source": [
    "q = \"SELECT c1.name AS city, c2.name AS country\\\n",
    "    FROM cities AS c1\\\n",
    "    INNER JOIN countries AS c2\\\n",
    "    ON c1.country_code = c2.code\"\n",
    "\n",
    "db_countries.query(q)"
   ]
  },
  {
   "cell_type": "markdown",
   "metadata": {},
   "source": [
    "Lets combine data from the countries table with data from the economies table to examine the inflation rate the years 2010 and 2015."
   ]
  },
  {
   "cell_type": "code",
   "execution_count": 218,
   "metadata": {},
   "outputs": [
    {
     "name": "stdout",
     "output_type": "stream",
     "text": [
      "    country_code          name  year inflation_rate\n",
      "0            AFG   Afghanistan  2010          2.179\n",
      "1            AFG   Afghanistan  2015         -1.549\n",
      "2            AGO        Angola  2010          14.48\n",
      "3            AGO        Angola  2015         10.287\n",
      "4            ALB       Albania  2010          3.605\n",
      "..           ...           ...   ...            ...\n",
      "365          ZAF  South Africa  2015          4.575\n",
      "366          ZMB        Zambia  2010            8.5\n",
      "367          ZMB        Zambia  2015         10.107\n",
      "368          ZWE      Zimbabwe  2010          3.045\n",
      "369          ZWE      Zimbabwe  2015          -2.41\n",
      "\n",
      "[370 rows x 4 columns]\n"
     ]
    }
   ],
   "source": [
    "q = \"SELECT c.code AS country_code, c.name, e.year, e.inflation_rate\\\n",
    "    FROM countries AS c\\\n",
    "    INNER JOIN economies AS e\\\n",
    "    ON c.code = e.code;\"\n",
    "\n",
    "db_countries.query(q)"
   ]
  },
  {
   "cell_type": "markdown",
   "metadata": {},
   "source": [
    "#### Multiple INNER JOINS\n",
    "\n",
    "Now, for each country, you want to get the country name, its region, the fertility rate, and the unemployment rate for both 2010 and 2015."
   ]
  },
  {
   "cell_type": "code",
   "execution_count": 222,
   "metadata": {},
   "outputs": [
    {
     "name": "stdout",
     "output_type": "stream",
     "text": [
      "    code         name                     region  year fertility_rate  \\\n",
      "0    AFG  Afghanistan  Southern and Central Asia  2015          4.653   \n",
      "1    AFG  Afghanistan  Southern and Central Asia  2010          5.746   \n",
      "2    ALB      Albania            Southern Europe  2015          1.793   \n",
      "3    ALB      Albania            Southern Europe  2010          1.663   \n",
      "4    DZA      Algeria            Northern Africa  2015          2.805   \n",
      "..   ...          ...                        ...   ...            ...   \n",
      "365  ZMB       Zambia             Eastern Africa  2015          5.284   \n",
      "366  ZMB       Zambia             Eastern Africa  2010          5.687   \n",
      "367  ZWE     Zimbabwe             Eastern Africa  2015          3.856   \n",
      "368  ZWE     Zimbabwe             Eastern Africa  2010          4.048   \n",
      "369  ERI      Eritrea             Eastern Africa  2015          4.207   \n",
      "\n",
      "    unemployment_rate  \n",
      "0                      \n",
      "1                      \n",
      "2                17.1  \n",
      "3                14.0  \n",
      "4              11.214  \n",
      "..                ...  \n",
      "365                    \n",
      "366                    \n",
      "367                    \n",
      "368                    \n",
      "369                    \n",
      "\n",
      "[370 rows x 6 columns]\n"
     ]
    }
   ],
   "source": [
    "q = \"SELECT c.code, name, region, e.year, fertility_rate, unemployment_rate\\\n",
    "  FROM countries AS c\\\n",
    "  INNER JOIN populations AS p\\\n",
    "    ON c.code = p.country_code\\\n",
    "  INNER JOIN economies AS e\\\n",
    "    On c.code = e.code AND e.year = p.year;\"\n",
    "\n",
    "db_countries.query(q)"
   ]
  },
  {
   "cell_type": "markdown",
   "metadata": {},
   "source": [
    "#### How multiple joins work\n",
    "\n",
    "WRITE HOW MULTIPLE JOINS WORK!!!"
   ]
  },
  {
   "cell_type": "markdown",
   "metadata": {},
   "source": [
    "### INNER JOIN via USING\n",
    "\n",
    "When joining tables with a common field name, e.g.\n",
    "\n",
    "```sql\n",
    "SELECT *\n",
    "FROM countries\n",
    "  INNER JOIN economies\n",
    "    ON countries.code = economies.code\n",
    "```\n",
    "\n",
    "You can use USING as a shortcut:\n",
    "\n",
    "```sql\n",
    "SELECT *\n",
    "FROM countries\n",
    "  INNER JOIN economies\n",
    "    USING(code)\n",
    "```"
   ]
  },
  {
   "cell_type": "markdown",
   "metadata": {},
   "source": [
    "### Self-ish JOIN, just in CASE\n",
    "\n",
    "Often it's useful to look at a numerical field not as raw data, but instead as being in different categories or groups.\n",
    "\n",
    "You can use CASE with WHEN, THEN, ELSE, and END to define a new grouping field.\n",
    "\n",
    "```sql\n",
    "SELECT name, continent, code, surface_area,\n",
    "    -- First case\n",
    "    CASE WHEN surface_area > 2000000 THEN 'large'\n",
    "        -- Second case\n",
    "        WHEN surface_area > 350000 THEN 'medium'\n",
    "        -- Else clause + end\n",
    "        ELSE 'small' END\n",
    "        -- Alias name\n",
    "        AS geosize_group\n",
    "-- From table\n",
    "FROM countries;\n",
    "````"
   ]
  },
  {
   "cell_type": "markdown",
   "metadata": {},
   "source": [
    "## Outer joins (LEFT (OUTER) JOIN and RIGHT (OUTER) JOIN) and Cross joins\n",
    "\n",
    "You can remember outer joins as reaching OUT to another table while keeping all of the records of the original table. Inner joins keep only the records IN both tables. You'll by exploring \n",
    "- LEFT JOINs\n",
    "- RIGHT JOINs and\n",
    "- FULL JOINs\n",
    "\n",
    "These are the three types of OUTER JOINs. "
   ]
  },
  {
   "cell_type": "markdown",
   "metadata": {},
   "source": [
    "## LEFT and RIGHT JOINs\n",
    "\n",
    "Let's begin by exploring how a LEFT JOIN differs from an INNER JOIN via a diagram.\n",
    "\n",
    "Recall how the inner join works: The only records that were included in the resulting table of the INNER JOIN query were those in which the id field had matching values.\n",
    "\n",
    "<figure>\n",
    "  <img src=\"images/INNER_JOIN.png\" alt=\"INNER JOIN\" style=\"width:20%\">\n",
    "  <figcaption>Fig. - INNER JOIN diagram.</figcaption>\n",
    "</figure>\n",
    "\n",
    "In contrast, a LEFT JOIN notes those records in the left table that do not have a match on the key field in the right table. This is denoted in the diagram by the open circles remaining close to the left table for id values of 2 and 3. These values of 2 and 3 do not appear in the id field of the right table.\n",
    "\n",
    "<figure>\n",
    "  <img src=\"images/LEFT_JOIN.png\" alt=\"INNER JOIN\" style=\"width:20%\">\n",
    "  <figcaption>Fig. - LEFT JOIN diagram.</figcaption>\n",
    "</figure>\n",
    "\n",
    "Whereas the INNER JOIN kept just the records corresponding to id values of 1 and 4, a LEFT JOIN keeps all of the original records in the left table but then marks the values as missing in the right table for those that don't have a match. The missing values are marked with dark gray boxes here for clarity. Note that the values of 5 and 6 for id in the right table are not found in the result of LEFT JOIN in any way.\n",
    "\n",
    "It isn't always the case that each key value in the left table corresponds to exactly one record in the key column of the right table. In these examples, we have this layout. Missing entries still occur for ids of 2 and 3 and the value of R3 is brought into the join from right2 since it matches on id 4. Duplicate rows are shown in the LEFT JOIN for id 1 since it has two matches corresponding to the values of R1 and R2 in the right2 table.\n",
    "\n",
    "<figure>\n",
    "  <img src=\"images/LEFT_JOIN_2.png\" alt=\"INNER JOIN\" style=\"width:20%\">\n",
    "  <figcaption>Fig. - LEFT JOIN diagram.</figcaption>\n",
    "</figure>\n",
    "\n",
    "The syntax of the LEFT JOIN is similar to that of the INNER JOIN:\n",
    "\n",
    "```sql\n",
    "SELECT p1.country, prime_minister, president\n",
    "FROM prime_ministers as p1\n",
    "LEFT JOIN presidents as p2\n",
    "ON p1.country = p2.country;\n",
    "```\n",
    "\n",
    "The RIGHT JOIN is much less common than the LEFT JOIN so we won't spend as much time on it here. The diagram will help you to understand how it works. Instead of matching entries in the id column on the left table TO the id column of the right table, a RIGHT JOIN does the reverse. Therefore, we see open circles on the ids of 5 and 6 in the right table since they are not found in the left table. The resulting table from the RIGHT JOIN shows these missing entries in the L_val field. As you can see in SQL the right table appears after RIGHT JOIN and the left table appears after FROM.\n",
    "\n",
    "<figure>\n",
    "  <img src=\"images/RIGHT_JOIN.png\" alt=\"INNER JOIN\" style=\"width:20%\">\n",
    "  <figcaption>Fig. - RIGHT JOIN diagram.</figcaption>\n",
    "</figure>"
   ]
  },
  {
   "cell_type": "markdown",
   "metadata": {},
   "source": [
    "## FULL JOIN\n",
    "\n",
    "A FULL JOIN combines a LEFT JOIN and a RIGHT JOIN as you can see by looking at this diagram. So it will bring in all records from both the left and the right table and keep track of the missing values accordingly.\n",
    "\n",
    "Note the missing values here and that all six of the values of id are included in the table. You can also see from the SQL code to produce this FULL JOIN result that the general format aligns closely with the SQL syntax you've seen for both an INNER JOIN and a LEFT JOIN.\n",
    "\n",
    "<figure>\n",
    "  <img src=\"images/FULL_JOIN.png\" alt=\"FULL JOIN\" style=\"width:60%\">\n",
    "  <figcaption>Fig. - FULL JOIN diagram.</figcaption>\n",
    "</figure>"
   ]
  },
  {
   "cell_type": "markdown",
   "metadata": {},
   "source": [
    "## CROSS JOIN, CROSSing the Rubicon\n",
    "\n",
    "Now that you've worked with INNER JOINs and OUTER JOINs it's time to check out the CROSS JOIN. CROSS JOINs create all possible combinations of two tables. Let's explore the diagram for a CROSS JOIN next.\n",
    "\n",
    "<figure>\n",
    "  <img src=\"images/CROSS_JOIN.png\" alt=\"CROSS_JOIN\" style=\"width:20%\">\n",
    "  <figcaption>Fig. - CROSS_JOIN diagram.</figcaption>\n",
    "</figure>\n",
    "\n",
    "In this diagram we have two tables named table1 and table2. Each table only has one field, both with the name of id. The result of the CROSS JOIN is all nine combinations of the id values of 1, 2, and 3 in table1 with the id values of A, B, and C for table2.\n",
    "\n",
    "Suppose that all prime ministers in North America and Oceania in the prime_ministers table are scheduled for individual meetings with all presidents in the presidents table. You can look at all of these combinations by using a CROSS JOIN. The syntax here remains similar to what you've seen earlier in the course. We use a WHERE clause to focus on only prime ministers in North America and Oceania in the prime_ministers table. The results of the query give us the pairings for the two prime ministers in North America and Oceania from the prime_ministers table with the seven presidents in the presidents table.\n",
    "\n",
    "```sql\n",
    "SELECT prime_minister, president\n",
    "FROM prime_ministers as p1\n",
    "CROSS JOIN presidents as p2\n",
    "WHERE p1.continent IN('North America', 'Oceacia')\n",
    "```"
   ]
  },
  {
   "cell_type": "markdown",
   "metadata": {},
   "source": [
    "## Set theory clauses\n",
    "\n",
    "Next are set theory clauses. In this video, we'll focus on the operations of UNION and UNION ALL. In addition to joining diagrams, in this chapter, you'll also see how Venn diagrams can be used to represent set operations. Let's begin with these Venn diagrams now.\n",
    "\n",
    "<figure>\n",
    "  <img src=\"images/VENN_DIAGRAM.png\" alt=\"CROSS_JOIN\" style=\"width:60%\">\n",
    "  <figcaption>Fig. - VENN diagrams.</figcaption>\n",
    "</figure>\n",
    "\n",
    "You can think of each circle as representing a table of data. The shading represents what is included in the result of the set operation from each table.\n",
    "- **UNION** includes every record in both tables but DOES NOT double count those that are in both tables. \n",
    "- **UNION ALL** includes every record in both tables and DOES replicate those that are in both tables. This is why the center is shaded black. The two diagrams on the bottom represent only subsets of data being selected. \n",
    "- **INTERSECT** results in only those records found in both of the two tables. \n",
    "- **EXCEPT** results in only those records in one table BUT NOT the other. Let's investigate what UNION looks like as a joining diagram.\n",
    "\n"
   ]
  },
  {
   "cell_type": "markdown",
   "metadata": {},
   "source": [
    "### UNION and UNION ALL\n",
    "\n",
    "In the below diagram, you have two tables with names left_one and right_one. The \"one\" here corresponds to each table only having one field. If you run a **UNION** on these two fields you get each record appearing in either table, but notice that the id values of 1 and 4 in right_one are not included again in the UNION since they were already found in the left_one table.\n",
    "\n",
    "<figure>\n",
    "  <img src=\"images/UNION.png\" alt=\"UNION\" style=\"width:20%\">\n",
    "  <figcaption>Fig. - UNION.</figcaption>\n",
    "</figure>\n",
    "\n",
    "\n",
    "By contrast (with the same two tables left_one and right_one), **UNION ALL** includes all duplicates in its result. So left_one and right_one both having four records yields eight records for the result of the UNION ALL. If it were the case that right_one had these same four values and also one more value of 1 for id, you'd see three entries for 1 in the resulting UNION ALL. \n",
    "\n",
    "<figure>\n",
    "  <img src=\"images/UNION_ALL.png\" alt=\"UNION_ALL\" style=\"width:20%\">\n",
    "  <figcaption>Fig. - UNION_ALL.</figcaption>\n",
    "</figure>\n",
    "\n",
    "\n",
    "Let's check out the SQL syntax using the leaders database for both UNION and UNION ALL, but first you'll see one more table in the leaders database.\n",
    "\n",
    "```sql\n",
    "SELECT prime_minister AS leader, country\n",
    "FROM prime_ministers\n",
    "UNION\n",
    "SELECT monarch, country\n",
    "FROM monarchs\n",
    "ORDER BY country;\n",
    "```\n",
    "\n",
    "You can use UNION on the prime_ministers and monarchs table to show all of the different prime ministers and monarchs in these two tables. The country field is also included here for reference. Note that the prime_minister field has been aliased as leader. In fact, the resulting field from the UNION will have the name of leader. That's an important property of the set theory clauses you will see in this chapter. The fields included in the operation must be of the same data type since they come back as just a single field. You can't stack a number on top of a character field in other words.\n",
    "\n",
    "Our resulting table from the UNION gives all the leaders and their corresponding country. \n",
    "\n",
    "<figure>\n",
    "  <img src=\"images/UNION_TABLE.png\" alt=\"UNION_TABLE\" style=\"width:50%\">\n",
    "  <figcaption>Fig. - Query result using UNION.</figcaption>\n",
    "</figure>\n",
    "\n",
    "Does something stand out to you here?\n",
    "\n",
    "\n",
    "The countries of Brunei and Oman were listed only once in the UNION table. These countries have monarchs that also act as prime ministers. This can be seen in the UNION ALL results.\n",
    "\n",
    "```sql\n",
    "SELECT prime_minister AS leader, country\n",
    "FROM prime_ministers\n",
    "UNION ALL\n",
    "SELECT monarch, country\n",
    "FROM monarchs\n",
    "ORDER BY country;\n",
    "LIMIT 10\n",
    "```\n",
    "<figure>\n",
    "  <img src=\"images/UNION_ALL_TABLE.png\" alt=\"UNION_ALL_TABLE\" style=\"width:30%\">\n",
    "  <figcaption>Fig. - Query result using UNION ALL.</figcaption>\n",
    "</figure>\n",
    "\n",
    "You've seen that UNION and UNION ALL clauses do not do the lookup step that JOINs do. They simply stack records on top of each other from one table to the next."
   ]
  },
  {
   "cell_type": "markdown",
   "metadata": {},
   "source": [
    "### INTERCEPTional data\n",
    "\n",
    "You saw with UNION and UNION ALL via examples that they do not do quite the same thing as what a join does. They only bind fields on top of one another in the two tables. The set theory clause **INTERSECT** works in a similar fashion to UNION and UNION ALL, but remember from the Venn diagram that INTERSECT only includes those records in common to both tables and fields selected. Let's investigate the diagram for INTERSECT and the corresponding SQL code to achieve it.\n",
    "\n",
    "<figure>\n",
    "  <img src=\"images/INTERCECT.png\" alt=\"INTERCECT\" style=\"width:40%\">\n",
    "  <figcaption>Fig. - INTERCECT.</figcaption>\n",
    "</figure>\n",
    "\n",
    "\n",
    "The result of the INTERSECT on left_one and right_one is only the records in common to both left_one and right_one: 1 and 4. Let's next see how you could use INTERSECT to determine all countries having both a prime minister and a president.\n",
    "\n",
    "<figure>\n",
    "  <img src=\"images/INTERCECT_TABLE.png\" alt=\"INTERCECT_TABLE\" style=\"width:20%\">\n",
    "  <figcaption>Fig. - Query result using INTERCECT.</figcaption>\n",
    "</figure>\n",
    "\n",
    "The code for each of these set operations has a similar layout. You first select which fields you'd like to include in your first table, and then you specify the name of the first table. Next you specify the set operation to perform. Lastly, you denote which fields in the second table you'd like to include and then the name of the second table. The result of the query is the four countries with both a prime minister and a president in the leaders database.\n",
    "\n",
    "Next, let's think about what would happen if we tried to select two columns instead of one from our previous example. The code shown does just that. \n",
    "\n",
    "<figure>\n",
    "  <img src=\"images/INTERCECT_TABLE_2.png\" alt=\"INTERCECT_TABLE_2\" style=\"width:30%\">\n",
    "  <figcaption>Fig. - Query result using INTERCECT and two selected columns.</figcaption>\n",
    "</figure>\n",
    "\n",
    "What will be the result of this query? Will this also give you the names of the countries that have both a prime minister and a president? Hmmm [PAUSE] The actual result is an empty table. Why is that? When INTERSECT looks at two columns it includes both columns in the search. So it didn't find any countries with prime ministers AND presidents having the same name. INTERSECT looks for RECORDS in common, not individual key fields like what a join does to match. This is an important distinction."
   ]
  },
  {
   "cell_type": "markdown",
   "metadata": {},
   "source": [
    "### EXCEPTional \n",
    "\n",
    "**EXCEPT** allows you to include only the records that are in one table, but not the other. Let's mix things up and look into the SQL code and result first and then dive into the diagram.\n",
    "\n",
    "This diagram gives the structure of EXCEPT clauses. Only the records that appear in the left table BUT DO NOT appear in the right table are included.\n",
    "\n",
    "<figure>\n",
    "  <img src=\"images/EXCEPT.png\" alt=\"EXCEPT\" style=\"width:20%\">\n",
    "  <figcaption>Fig. - EXCEPT.</figcaption>\n",
    "</figure>"
   ]
  },
  {
   "cell_type": "markdown",
   "metadata": {},
   "source": [
    "### Semi-joins and Anti-joins\n",
    "\n",
    "1. Semi-joins and Anti-joins\n",
    "You'll now close this chapter by returning to joins. The six joins you've worked with so far are all additive joins in that they add columns to the original \"left\" table:\n",
    "\n",
    "1. INNER JOIN\n",
    "2. self-join\n",
    "3. LEFT JOIN\n",
    "4. RIGHT JOIN\n",
    "5. FULL JOIN\n",
    "6. CROSS JOIN\n",
    "\n",
    "The last two joins we will cover use a right table to determine which records to keep in the left table. In other words, you use these last two joins (semi-join and anti-join) in a way similar to a WHERE clause dependent on the values of a second table. \n",
    "\n",
    "Let's try out some examples of semi-joins and anti-joins and then return to the diagrams for each. Suppose that you are interested in determining the presidents of countries that gained independence before 1800. Let's first determine which countries this corresponds to in the states table. Recall from your knowledge of SQL before you knew anything about JOINs how this could be done. To get only the countries meeting this condition you can use the WHERE clause. \n",
    "\n",
    "```sql\n",
    "SELECT name\n",
    "FROM states\n",
    "WHERE indep_year < 1800;\n",
    "```\n",
    "\n",
    "We'll next set up the other part of the query to get the presidents we want. What code is needed to retrieve the president, country, and continent columns from the presidents table in that order?\n",
    "Now we need to use this result with the one in the previous slide to further filter the country field in the presidents table to give us the correct result. Let's see how this might be done next.\n",
    "\n",
    "```sql\n",
    "SELECT president, country, continent\n",
    "FROM presidents;\n",
    "```\n",
    "\n",
    "In the first query of this example, we determined that Portugal and Spain were both independent before 1800. In the second query, we determined how to display the table in a nice form to answer our question. In order to combine the two tables together we will again use a WHERE clause and then use the first query as the condition to check in the WHERE clause. Check it out! \n",
    "\n",
    "```sql\n",
    "SELECT president, country, continent\n",
    "FROM presidents\n",
    "WHERE country IN\n",
    "    (SELECT name \n",
    "     FROM states\n",
    "     WHERE indep_year < 1800)\n",
    "```\n",
    "This is your first example of a subquery: a query that sits inside of another query. You'll explore these more in Chapter 4. What does this give as a result? Is it the presidents of Spain and of Portugal? Since Spain does not have a president, it is not included here and only the Portuguese president is listed. The semi-join chooses records in the first table where a condition IS met in a second table. An anti-join chooses records in the first table where a condition IS NOT met in the second table. \n",
    "\n",
    "How might you determine countries in the Americas founded after 1800?\n",
    "Using the code from the previous example, you only need to add a few pieces of code. \n",
    "\n",
    "```sql\n",
    "SELECT president, country, continent\n",
    "FROM presidents\n",
    "WHERE continent LIKE '%America'\n",
    "    AND country NOT IN\n",
    "    (SELECT name \n",
    "     FROM states\n",
    "     WHERE indep_year < 1800)\n",
    "```\n",
    "\n",
    "Fill in the WHERE clause by choosing only those continents ending in America and then fill in the other space with a NOT to exclude those countries in the subquery. The presidents of countries in the Americas founded after 1800 are given in the table.\n",
    "\n",
    "The **semi-join** matches records by key field in the right table with those in the left. \n",
    "\n",
    "\n",
    "<figure>\n",
    "  <img src=\"images/SEMI_JOIN.png\" alt=\"SEMI_JOIN\" style=\"width:20%\">\n",
    "  <figcaption>Fig. - SEMI_JOIN.</figcaption>\n",
    "</figure>\n",
    "\n",
    "\n",
    "It then picks out only the rows in the left table that match that condition. \n",
    "\n",
    "The **anti-join** picks out those columns in the left table that do not match the condition on the right table. \n",
    "\n",
    "\n",
    "<figure>\n",
    "  <img src=\"images/ANTI_JOIN.png\" alt=\"ANTI_JOIN\" style=\"width:20%\">\n",
    "  <figcaption>Fig. - ANTI_JOIN.</figcaption>\n",
    "</figure>\n",
    "\n",
    "Semi-joins and anti-joins don't have the same built-in SQL syntax that INNER JOIN and LEFT JOIN have. They are useful tools in filtering one table's records on the records of another table."
   ]
  },
  {
   "cell_type": "markdown",
   "metadata": {},
   "source": [
    "### Subqueries inside WHERE and SELECT clauses\n",
    "\n",
    "This last chapter is focused on embedding queries inside of queries. These are called nested queries and also known as subqueries as you saw in Chapter 3. The most common type of subquery is one inside of a WHERE statement. Let's check out another one of these now with a little bit of setting up to do first, of course.\n",
    "\n",
    "You've seen many examples of using a subquery inside a WHERE clause already with the semi-join and anti-join examples and exercises you just completed. With the WHERE clause being the most common place for a subquery to be found, it's important that you see just one more example of doing so. With this being the final chapter, it's time to unveil the remaining fields in the states table. Note that the continent field is not shown to display all the fields here. \n",
    "\n",
    "<figure>\n",
    "  <img src=\"images/Subquery_TABLE.png\" alt=\"Subquery_TABLE\" style=\"width:40%\">\n",
    "  <figcaption>Fig. - Table used in this chapter.</figcaption>\n",
    "</figure>\n",
    "\n",
    "The fert_rate field gives an estimate for the average number of babies born per woman in each country. The women_parli_perc field gives the percentage of women in the elected federal parliament for each country. Across these 13 countries, how would you determine the average fertility rate?\n",
    "We will use the average fertility rate as part of a subquery. Recall how this is done. \n",
    "\n",
    "\n",
    "```sql\n",
    "SELECT AVG(fert_rate)\n",
    "FROM states\n",
    "```\n",
    "The average babies born to women across these countries is 2-point-28 children.\n",
    "\n",
    "Let's use the previous slide's query as a subquery to determine Asian countries that fall under this average. You'll see the code in a couple steps. \n",
    "\n",
    "```sql\n",
    "SELECT name, fert_rate\n",
    "FROM states\n",
    "WHERE continent = 'Asia'\n",
    "```\n",
    "First we select the country name and the fertility rate for Asian countries.\n",
    "\n",
    "Next, we want to choose records where fert_rate is smaller than What comes next?\n",
    "The subquery is to get the average fertility rate! \n",
    "\n",
    "\n",
    "```sql\n",
    "SELECT name, fert_rate\n",
    "FROM states\n",
    "WHERE continent = 'Asia'\n",
    "AND fert_rate <\n",
    "    (SELECT AVG(fert_rate)\n",
    "    FROM states);\n",
    "```\n",
    "And now we can check out our result to make sure it makes sense.\n",
    "\n",
    "\n",
    "| name    | fert_rate |\n",
    "| ------- | --------- |\n",
    "| Brunei  | 1.96      |\n",
    "| Vietnam | 1.7       |\n",
    "\n",
    "It appears so. These are the two Asian countries we were looking for with fertility rates below 2-point-28 babies per woman.\n",
    "\n",
    "The second most common type of a subquery is inside of a SELECT clause. The task here is to count the number of countries listed in the states table for each continent in the prime_ministers table. Let's again take the stepwise approach to setting up the problem. What does this code do? \n",
    "\n",
    "```sql\n",
    "SELECT DISTINCT continent\n",
    "FROM prime_ministers;\n",
    "```\n",
    "\n",
    "It gives each of the five continents in the prime_ministers table. \n",
    "\n",
    "| continent     |\n",
    "| ------------- | \n",
    "| Africa        |\n",
    "| Asia          |\n",
    "| Europe        |\n",
    "| North America |\n",
    "| Oceania       |\n",
    "\n",
    "Let's keep building...\n",
    "Next is determining the counts of the number of countries in states for each of the continents in the last slide. Combining a COUNT clause with a WHERE statement matching the continent fields in the two tables gets us there. Let's check out the code and then discuss a bit further. \n",
    "\n",
    "```sql\n",
    "SELECT DISTINCT continent\n",
    "    (SELECT COUNT(*)\n",
    "    FROM states \n",
    "    WHERE prime_ministers.continent = states.continent AS countries_num)\n",
    "FROM prime_ministers;\n",
    "```\n",
    "The subquery involving states also can reference the prime_ministers table in the main query. Any time you do a subquery inside a SELECT statement like this, you need to give the subquery an alias like countries_num here. \n",
    "\n",
    "| continent     | countries_num |\n",
    "| ------------- | ------------- |\n",
    "| Africa        | 2             |\n",
    "| Asia          | 4             |\n",
    "| Europe        | 3             |\n",
    "| North America | 1             |\n",
    "| Oceania       | 1             |\n",
    "\n",
    "\n",
    "It's kinda like magic that this works, huh?! If you haven't discovered it already, there are often many different ways to solve problems with SQL queries. You could use a carefully constructed JOIN to achieve this same result, for example."
   ]
  },
  {
   "cell_type": "markdown",
   "metadata": {},
   "source": [
    "### Subquery inside the FROM clause\n",
    "\n",
    "The last basic type of a subquery exists inside of a FROM clause. A motivating example pertaining to the percentage of women in parliament will be used now to help you understand this style of subquery.\n",
    "\n",
    "First, let's determine the maximum percentage of women in parliament for each continent listed in states. \n",
    "\n",
    "```sql\n",
    "SELECT continent, MAX(woman_parli_perc) AS max_perc\n",
    "FROM states\n",
    "GROUP BY continent\n",
    "ORDER BY continent;   \n",
    "```\n",
    "\n",
    "Recall that this query will only work if you include continent as one of the fields in the SELECT clause since we are grouping based on that field. Let's check out the result. \n",
    "\n",
    "| continent     | max_perc      |\n",
    "| ------------- | ------------- |\n",
    "| Africa        | 14.9          |\n",
    "| Asia          | 24            |\n",
    "| Europe        | 39.6          |\n",
    "| North America | 2.74          |\n",
    "| Oceania       | 32.74         |\n",
    "| South America | 22.31         |\n",
    "\n",
    "We see that Europe has the largest value and North America has the smallest value for the countries listed in the states table.\n",
    "\n",
    "What if you weren't interested in all continents, but specifically those in the monarchs table. You haven't seen this yet in the course but you can include multiple tables in a FROM clause by adding a comma between them. Let's investigate a way to get the continents only in monarchs using this new trick. \n",
    "\n",
    "```sql\n",
    "SELECT monarchs.continent\n",
    "FROM monarchs, states\n",
    "WHERE monarchs.continent = states.continent\n",
    "ORDER BY continent;   \n",
    "```\n",
    "\n",
    "| continent     | \n",
    "| ------------- | \n",
    "| Asia          | \n",
    "| Asia          | \n",
    "| Asia          | \n",
    "| Asia          |\n",
    "| Asia          |\n",
    "| Asia          |\n",
    "| Asia          |\n",
    "| Asia          |\n",
    "| Asia          |\n",
    "| Europe        |\n",
    "| Europe        |\n",
    "| Europe        |\n",
    "| Europe        |\n",
    "| Europe        |\n",
    "| Europe        |\n",
    "\n",
    "We have at least part of our answer here, but how do we get rid of those duplicate entries? And what about the maximum column?\n",
    "\n",
    "To get Asia and Europe to appear only once, use the DISTINCT command in your SELECT statement. But now how do you get that maximum column to also come along with Asia and Europe? Instead of including states in the FROM clause, include the subquery instead and alias it with a name like subquery. There you have it! That's how to include a subquery as a temporary table in your FROM clause.\n",
    "\n",
    "```sql\n",
    "SELECT DISTINCT monarchs.continent, subquery.max_perc\n",
    "FROM monarchs\n",
    "    (SELECT continent, MAX(woman_parli_perc) AS max_perc\n",
    "     FROM states\n",
    "     GROUP BY continent) AS subquery\n",
    "WHERE monarchs.continent = subquery.continent\n",
    "ORDER BY continent;   \n",
    "```\n",
    "\n",
    "\n",
    "| continent     | max_perc      |\n",
    "| ------------- | ------------- |\n",
    "| Asia          | 24            |\n",
    "| Europe        | 39.6          |"
   ]
  },
  {
   "cell_type": "markdown",
   "metadata": {},
   "source": [
    "# 3. Intermediate SQL"
   ]
  },
  {
   "cell_type": "markdown",
   "metadata": {},
   "source": [
    "For this course, we will be using the European Soccer Database -- a relational database that contains data about over 25,000 matches, 300 teams, and 10,000 players in Europe between 2008 and 2016. The data is contained within 4 tables -- country, league, team, and match. Selecting from tables in this database is pretty simple. \n",
    "\n",
    "```sql\n",
    "SELECT\n",
    "    l.name AS league,\n",
    "    COUNT(m.country_id) AS total_matches\n",
    "FROM league as l\n",
    "LEFT JOIN match AS m\n",
    "ON l.country_id = m.country_id\n",
    "GROUP BY l.name;\n",
    "```\n",
    "\n",
    "| league                 | total_matches    |\n",
    "| ---------------------- | ---------------- |\n",
    "| Belgium Jupiler League | 732              |\n",
    "| England Premier League | 1520             | \n",
    "| France Ligue 1         | 1520             |\n",
    "| Germany 1. Bundesliga  | 1224             |\n",
    "\n",
    "The query you see here gives you the number of matches played in each of the 11 leagues listed in the \"League\" table."
   ]
  },
  {
   "cell_type": "markdown",
   "metadata": {},
   "source": [
    "## CASE statement\n",
    "\n",
    "Let's say we want to compare the number of home team wins, away team wins, and ties in the 2013/2014 season. The \"Match\" table has two relevant columns -- home_goal, and away_goal.\n",
    "\n",
    "```sql\n",
    "SELECT date, id, home_goal, away_goal\n",
    "FROM matches\n",
    "WHERE season = '2013/2014'\n",
    "```\n",
    "\n",
    "| date                   | id               | home_goal | away_goal |\n",
    "| ---------------------- | ---------------- | --------- | --------- |\n",
    "| 2014-03-29             | 1237             | 2         | 0         | \n",
    "| 2014-03-29             | 1238             | 0         | 1         |\n",
    "| 2014-05-04             | 1239             | 1         | 0         |\n",
    "| 2014-05-04             | 1240             | 0         | 0         |\n",
    "\n",
    "We can potentially add filters to the WHERE clause selecting wins, loses, and ties as separate queries, but that's not very efficient if you want to compare these separate outcomes in a single data set.\n",
    "\n",
    "```sql\n",
    "SELECT date, id, home_goal, away_goal\n",
    "FROM matches\n",
    "WHERE season = '2013/2014'\n",
    "AND home_team_goal > away_team_goal\n",
    "```\n",
    "\n",
    "| date                   | id               | home_goal | away_goal |\n",
    "| ---------------------- | ---------------- | --------- | --------- |\n",
    "| 2014-03-29             | 1237             | 2         | 0         | \n",
    "| 2014-05-04             | 1239             | 1         | 0         |\n",
    "| 2014-04-12             | 1241             | 2         | 1         |\n",
    "| 2014-04-12             | 1242             | 2         | 0         |\n",
    "\n",
    "This is where the **CASE** statement comes in. Case statements are SQL's version of an \"IF this THEN that\" statement. Case statements have three parts:\n",
    "- a WHEN clause\n",
    "- a THEN clause and \n",
    "- an ELSE clause. \n",
    "\n",
    "The first part -- the WHEN clause -- tests a given condition, say, x = 1. \n",
    "\n",
    "```sql\n",
    "CASE WHEN x = 1 THEN 'a'\n",
    "     WHEN x = 2 THEN 'b'\n",
    "     ELSE 'c' END AS new_column\n",
    "```\n",
    "\n",
    "If this condition is TRUE, it returns the item you specify after your THEN clause. You can create multiple conditions by listing WHEN and THEN statements within the same CASE statement. The CASE statement is then ended with an ELSE clause that returns a specified value if all of your when statements are not true. When you have completed your statement, be sure to include the term END and give it an alias. The completed CASE statement will evaluate to one column in your SQL query.\n",
    "\n",
    "**Note:** There are more ways of structuring CASE statements, in example using arithmetic functions such as COUNT, SUM, and AVERAGE. "
   ]
  },
  {
   "cell_type": "markdown",
   "metadata": {},
   "source": [
    "## More complex CASE statements\n",
    "\n",
    "\n",
    "Now that you understand the basics of CASE statements, let's set up some more complex logical tests.\n",
    "\n",
    "### CASE WHEN ... AND then some\n",
    "\n",
    "If you want to test multiple logical conditions in a CASE statement, you can use AND inside your WHEN clause. For example, let's see if each match was played, and won, by the team Chelsea. \n",
    "\n",
    "```sql\n",
    "SELECT date, hometeam_id, awayteam_id,\n",
    "    CASE WHEN hometeam_id = 8455 AND home_goal > away_goal THEN 'Chelsea home win!'\n",
    "    WHEN awayteam_id = 8455 AND home_goal < away_goal THEN 'Chelsea away win!'\n",
    "    ELSE 'Loss or tie :(' END AS outcome\n",
    "FROM match\n",
    "WHERE hometeam_id = 8455 OR awayteam_id = 8455;\n",
    "```\n",
    "\n",
    "\n",
    "Let's see the CASE statement in this query. Each WHEN clause contains two logical tests -- the first tests if a hometead_id identifies Chelsea, AND then it tests if the home team scored higher than the away team. If both conditions are TRUE, the new column output returns the phrase \"Chelsea home win!\". The opposite set of conditions are included in a second when statement -- if the awayteam_id belongs to Chelsea, AND scored higher, then the output returns \"Chelsea away win!\". All other matches are categorized as a loss or tie. Here's the resulting table.\n",
    "\n",
    "\n",
    "| date                   |hometeam_id | awayteam_id | outcome           |\n",
    "| ---------------------- | ---------- | ----------- | ----------------- |\n",
    "| 2011-08-14             | 10194      | 8455        | Loss or tie :(    | \n",
    "| 2011-08-20             | 8455       | 8659        | Chelsea home win! |\n",
    "| 2011-08-27             | 8455       | 9850        | Chelsea home win! |\n",
    "| 2011-09-10             | 8472       | 8455        | Chelsea home win! |\n",
    "\n",
    "\n",
    "When testing logical conditions, it's important to carefully consider which rows of your data are part of your ELSE clause, and if they're categorized correctly. Here's the same CASE statement from the previous slide, but the WHERE filter has been removed. \n",
    "\n",
    "```sql\n",
    "SELECT date, hometeam_id, awayteam_id,\n",
    "    CASE WHEN hometeam_id = 8455 AND home_goal > away_goal THEN 'Chelsea home win!'\n",
    "    WHEN awayteam_id = 8455 AND home_goal < away_goal THEN 'Chelsea away win!'\n",
    "    ELSE 'Loss or tie :(' END AS outcome\n",
    "FROM match\n",
    "```\n",
    "\n",
    "Without this filter, your ELSE clause will categorize ALL matches played by anyone, who don't meet these first two conditions, as \"Loss or tie :(\". \n",
    "\n",
    "The easiest way to correct for this is to ensure you add specific filters in the WHERE clause that exclude all teams where Chelsea did not play. Here, we specify this by using an OR statement in WHERE, which retrieves only results where the id 8455 is present in the hometeam_id or awayteam_id columns. The resulting table from earlier, with the team IDs in bold here, clearly specifies whether Chelsea was home or away team.\n",
    "\n",
    "It's also important to consider what your ELSE clause is doing. \n",
    "Let's say we're only interested in viewing the results of games where Chelsea won, and we don't care if they lose or tie. Just like in the previous example, simply removing the ELSE clause will still retrieve those results -- and a lot of NULL values.\n",
    "\n",
    "```sql\n",
    "SELECT date, season\n",
    "    CASE WHEN hometeam_id = 8455 AND home_goal > away_goal THEN 'Chelsea home win!'\n",
    "    WHEN awayteam_id = 8455 AND home_goal < away_goal THEN 'Chelsea away win!'\n",
    "    END AS outcome\n",
    "FROM match\n",
    "WHERE hometeam_id = 8455 OR awayteam_id = 8455;\n",
    "```\n",
    "\n",
    "\n",
    "| date                   |season      |  outcome           |\n",
    "| ---------------------- | ---------- | ------------------ |\n",
    "| 2011-08-14             | 2011/2012  |  NULL              | \n",
    "| 2011-12-22             | 2011/2012  |  NULL              |\n",
    "| 2012-12-08             | 2012/2013  |  Chelsea away win! |\n",
    "| 2013-03-02             | 2012/2013  |  Chelsea home win! |\n",
    "\n",
    "\n",
    "To correct for this, you can treat the entire CASE statement as a column to filter by in your WHERE clause, just like any other column. In order to filter a query by a CASE statement you include the entire CASE statement, except its alias, in WHERE. You then specify what you want to include, or exclude. For this query, I want to keep all rows where this CASE statement IS NOT NULL. My resulting table now only includes Chelsea's home and away wins -- and I don't need to filter by their team ID anymore!\n",
    "\n",
    "```sql\n",
    "SELECT date, hometeam_id, awayteam_id,\n",
    "    CASE WHEN hometeam_id = 8455 AND home_goal > away_goal THEN 'Chelsea home win!'\n",
    "    WHEN awayteam_id = 8455 AND home_goal < away_goal THEN 'Chelsea away win!'\n",
    "    ELSE 'Loss or tie :(' END AS outcome\n",
    "FROM match\n",
    "WHERE CASE WHEN hometeam_id = 8455 AND home_goal > away_goal THEN 'Chelsea home win!'\n",
    "    WHEN awayteam_id = 8455 AND home_goal < away_goal THEN 'Chelsea away win!'\n",
    "    END IS NOT NULL\n",
    "```"
   ]
  },
  {
   "cell_type": "markdown",
   "metadata": {},
   "source": [
    "### CASE WHEN with aggregate functions\n",
    "\n",
    "Let's take a look at CASE statements with aggregate functions.\n",
    "\n",
    "CASE statements can be used to \n",
    "- **create columns** for categorizing data\n",
    "- **filter** your data in the WHERE clause and\n",
    "- **aggregate** data based on the result of a logical test.\n",
    "\n",
    "Let's say you wanted to prepare a summary table counting the number of home and away games that Liverpool won in each season. If you've created summary tables in Spreadsheets, you can probably visualize the final table, here -- but how do you get a count of Liverpool's wins in each season?\n",
    "\n",
    "You guessed it -- a CASE statement. CASE statements are like any other column in your query, so you can include them inside an aggregate function. Take a look at this CASE statement:\n",
    "\n",
    "```sql\n",
    "SELECT season,\n",
    "    COUNT(CASE WHEN hometeam_id = 8650\n",
    "          AND home_goal > away_goal \n",
    "          THEN id END) AS home_wins\n",
    "FROM match\n",
    "GROUP BY season\n",
    "``` \n",
    "\n",
    "The WHEN clause includes a similar logical test to the previous lesson -- did Liverpool play as the home team, AND did the home team score higher than the away team? The difference begins in your THEN clause. Instead of returning a string of text, you return the column identifying the unique match id. When this CASE statement is inside the COUNT function, it COUNTS every id returned by this CASE statement.\n",
    "\n",
    "You then add a second CASE statement for the away team, and group the query by the season. \n",
    "\n",
    "```sql\n",
    "SELECT season,\n",
    "    COUNT(CASE WHEN hometeam_id = 8650\n",
    "          AND home_goal > away_goal \n",
    "          THEN id END) AS home_wins\n",
    "    COUNT(CASE WHEN awayteam_id = 8650\n",
    "          AND away_goal > home_goal \n",
    "          THEN id END) AS away_wins\n",
    "FROM match\n",
    "GROUP BY season\n",
    "``` \n",
    "| season    | home_wins | away_wins |\n",
    "| --------- | --------- | --------- |\n",
    "| 2011/2012 | 6         | 8         |\n",
    "| 2012/2013 | 9         | 7         |\n",
    "| 2013/2014 | 16        | 10        |\n",
    "| 2014/2015 | 10        | 8         |\n",
    "\n",
    "\n",
    "When counting information in a CASE statement, you can return anything you'd like a number, a string of text, or any column in the table, SQL is COUNTing the number of rows returned by the CASE statement.\n",
    "\n",
    "Similarly, you can use the **SUM** function to calculate a total of any value. Let's say we're interested in the number of home and away goals that Liverpool scored in each season. This is fairly simple to set up: \n",
    "\n",
    "\n",
    "```sql\n",
    "SELECT season,\n",
    "    SUM(CASE WHEN hometeam_id = 8650\n",
    "          THEN home_goal END) AS home_goals,\n",
    "    SUM(CASE WHEN awayteam_id = 8650 \n",
    "          THEN away_goal END) AS away_goals\n",
    "FROM match\n",
    "GROUP BY season\n",
    "``` \n",
    "\n",
    "if the hometeam_id is Liverpool's, return the home_goal value. The ELSE condition is assumed to be NULL, so the query returns the total home_goals scored by Liverpool in each season.\n",
    "\n",
    "| season    | home_goals | away_goals |\n",
    "| --------- | ---------- | ---------- |\n",
    "| 2011/2012 | 24         | 23         |\n",
    "| 2012/2013 | 33         | 38         |\n",
    "| 2013/2014 | 53         | 48         |\n",
    "| 2014/2015 | 30         | 22         |\n",
    "\n",
    "\n",
    "You can also use the **AVG** function with CASE in two key ways. First, you can calculate an average of data. You can do this using CASE in the EXACT same way you used the SUM function. Just change out SUM for AVG in this query, and you instead get the AVG goals Liverpool scored in each season.\n",
    "\n",
    "```sql\n",
    "SELECT season,\n",
    "    AVG(CASE WHEN hometeam_id = 8650\n",
    "          THEN home_goal END) AS avg_home_goals,\n",
    "    AVG(CASE WHEN awayteam_id = 8650 \n",
    "          THEN away_goal END) AS avg_away_goals\n",
    "FROM match\n",
    "GROUP BY season\n",
    "``` \n",
    "\n",
    "You can make the results easier to read using ROUND. ROUND takes 2 arguments -- a numerical value, and the number of decimal points to round the value to. Place it outside your aggregate CASE statement, and include the number of decimal points at the end. There, that's much easier to read!\n",
    "\n",
    "```sql\n",
    "SELECT season,\n",
    "    ROUND(AVG(CASE WHEN hometeam_id = 8650\n",
    "          THEN home_goal END),2) AS avg_home_goals,\n",
    "    ROUND(AVG(CASE WHEN awayteam_id = 8650 \n",
    "          THEN away_goal END),2) AS avg_away_goals\n",
    "FROM match\n",
    "GROUP BY season\n",
    "``` \n",
    "\n",
    "| season    | avg_home_goals | avg_away_goals |\n",
    "| --------- | ------------ | ---------------- |\n",
    "| 2011/2012 | 1.26         | 1.21             |\n",
    "| 2012/2013 | 1.73         | 2                |\n",
    "| 2013/2014 | 2.78         | 2.52             |\n",
    "| 2014/2015 | 1.57         | 1.15             |\n",
    "\n",
    "\n",
    "The second key application of CASE with AVG is in the calculation of percentages. This requires a specific structure in order for your calculation to be accurate. The question we're answering here is, \"What percentage of Liverpool's games did they win in each season?\" \n",
    "\n",
    "```sql\n",
    "SELECT season,\n",
    "    ROUND(AVG(CASE WHEN hometeam_id = 8455 AND home_goal > away_goal THEN 1\n",
    "             WHEN hometeam_id = 8455 AND home_goal < away_goal THEN 0\n",
    "             END),2) AS pct_homewins,\n",
    "    ROUND(AVG(CASE WHEN hometeam_id = 8455 AND away_goal > home_goal THEN 1\n",
    "             WHEN hometeam_id = 8455 AND away_goal < home_goal THEN 0\n",
    "             END),2) AS pct_awaywins,\n",
    "FROM match\n",
    "GROUP BY season\n",
    "``` \n",
    "\n",
    "| season    | pct_homewins | pct_awaywins |\n",
    "| --------- | ------------ | -------------|\n",
    "| 2011/2012 | 0.75         | 0.5          |\n",
    "| 2012/2013 | 0.86         | 0.67         |\n",
    "| 2013/2014 | 0.94         | 0.67         |\n",
    "| 2014/2015 | 1            | 0.79         |\n",
    "\n",
    "\n",
    "The first component of this CASE statement is a WHEN clause identifying what you're calculating a percentage of -- in this case, how many games did they win? This is tested in the same way as previous slides, and your THEN clause returns a 1. The second component identifies Liverpool's games that they LOST, and returns the value 0. All other matches -- ties, games not involving Liverpool -- are excluded as NULLs. Here are the results of this query ..."
   ]
  },
  {
   "cell_type": "markdown",
   "metadata": {},
   "source": [
    "## Subqueries"
   ]
  },
  {
   "cell_type": "markdown",
   "metadata": {},
   "source": [
    "In this chapter, we will cover the use of simple subqueries to extract and transform your data.\n",
    "\n",
    "A subquery is a query nested inside another query. You can tell that there is a subquery in your SQL statement if you have an additional SELECT statement contained inside parentheses, surrounded by another complete SQL statement. \n",
    "\n",
    "```sql\n",
    "SELECT column\n",
    "FROM (SELECT column\n",
    "      FROM table) AS subquery;\n",
    "```\n",
    "So why is this important? Often, in order to retrieve information you want, you have to perform some intermediary transformations to your data before selecting, filtering, or calculating information. Subqueries are a common way of performing this transformation.\n",
    "\n",
    "A subquery can be placed in **any** part of your query -- such as the SELECT, FROM, WHERE, or GROUP BY clause. Where you place it depends on what you want your final data to look like. A subquery can return a variety of information, such as scalar quantities, or numbers, like the ones listed here. A subquery can return a list to use for filtering or joining information, or it can return a table to extract and further transform data.\n",
    "\n",
    "**Why subqueries?**\n",
    "Subqueries allow you to compare summarized values to detailed data:\n",
    "\n",
    "- comparing groups to summarize data \n",
    "    - *compare Liverpool's performance to the entire English Premier League* \n",
    "- Reshaping data\n",
    "    - *determining the highest monthly average of goals scored in the Bundesliga*\n",
    "- Combining data that cannot be joined\n",
    "    - *getting both the home and away team names into your results table*"
   ]
  },
  {
   "cell_type": "markdown",
   "metadata": {},
   "source": [
    "### Simple subqueries with WHERE\n",
    "\n",
    "Let's start with the definition of a simple subquery. A simple subquery is a query, nested inside another query, that can be run on its own. The example you see here has a subquery in the WHERE clause\n",
    "\n",
    "```sql\n",
    "SELECT home_goal \n",
    "FROM match\n",
    "WHERE home_goal > (\n",
    "    SELECT AVG(home_goal)\n",
    "    FROM match);\n",
    "``` \n",
    "\n",
    "**NOTE :** A simple subquery is evaluated once in the entire query. This means that SQL first processes the information inside the subquery, gets the information it needs, and then moves on to processing information in the OUTER query. \n",
    "\n",
    "The first type of simple subquery we'll explore is the subquery in the **WHERE** clause. These are useful for filtering results based on information you'd have to calculate separately beforehand. \n",
    "\n",
    "Let's generate a list of matches in the 2012/2013 season where the number of home goals scored was higher than overall average. You could calculate the average, and then include that number in the main query...\n",
    "\n",
    "...or you could put the query directly into the WHERE clause, inside parentheses. \n",
    "\n",
    "```sql\n",
    "SELECT date, hometeam_id, awayteam_id, home_goal, away_goal\n",
    "FROM match\n",
    "WHERE season = '2012/2013'\n",
    "    AND home_goal > (SELECT AVG(home_goal)\n",
    "                     FROM match);\n",
    "```\n",
    "\n",
    "|date      |hometeam_id|awayteam_id|home_goal|away_goal|\n",
    "| ---------| --------- | --------- | ------- | ------- |\n",
    "|2012-07-28|9998       |1773       |5        |2        |\n",
    "|2012-07-29|9987       |9984       |3        |3        |\n",
    "|2012-10-05|9993       |9991       |2        |2        |\n",
    "\n",
    "This way, you have one less manual step to perform before getting the results you need.\n",
    "    \n",
    "Subqueries are also useful for generating a filtering list. \n",
    "\n",
    "```sql\n",
    "SELECT team_long_name, team_short_name AS abbr\n",
    "FROM team\n",
    "WHERE team_api_id IN\n",
    "      (SELECT hometeam_id\n",
    "       FROM match \n",
    "       WHERE country_id = 15722);\n",
    "```\n",
    "\n",
    "This query answers the question, \"Which teams are part of Poland's league?\" The \"team\" table doesn't have the country IDs, but the \"match\" table has both country and team IDs. By querying a list of hometeam_id's from match where the country_id is 15722, which indicates \"Poland\", you can generate a list to compare to the team_api_id column IN the WHERE clause."
   ]
  },
  {
   "cell_type": "markdown",
   "metadata": {},
   "source": [
    "### Subqueries in the FROM statement\n",
    "\n",
    "\n",
    "You probably noticed that subqueries in WHERE can only return a single column. But what if you want to return a more complex set of results? \n",
    "\n",
    "Subqueries in the **FROM** statement are a robust tool for restructuring and transforming your data. Often, the data you need to answer a question is not yet in the format necessary to query it directly, and requires some additional processing to prepare for analysis:\n",
    "\n",
    "For example, you may want to transform your data into a different shape, or pre-filter it before making calculations. Subqueries in a FROM statement are a common way of preparing that data. Subqueries in FROM are also useful when calculating aggregates of aggregate information. Let's say you're interested in getting the top 3 teams who scored the highest number of home_goals on average in the 2011/2012 season. You would first calculate the average for each team in the league, and THEN calculate the max value for any team overall. This can be easily accomplished with a subquery in FROM.\n",
    "\n",
    "To summarize, subqueries in the FROM statement are useful for:\n",
    "\n",
    "- Restructure and transform your data\n",
    "    - Transforming data from long to wide before selecting\n",
    "    - Prefiltering data\n",
    "- Calculating aggregates of aggregates\n",
    ".\n",
    "Let's examine the home_goal average for every team in the database. First, you will create the query that will become your subquery. \n",
    "\n",
    "```sql\n",
    "SELECT t.team_long_name as team, AVG(m.home_goal) as home_avg\n",
    "FROM match AS m\n",
    "LEFT JOIN team as t\n",
    "ON m.home_team_id = t.team_api_id\n",
    "WHERE season = '2011/2012'\n",
    "GROUP BY team;\n",
    "```\n",
    "\n",
    "This query here selects the team's long name from the \"team\" table, and the AVG of home_goal column from the \"match\" table. The team table is left joined onto the \"match\" table using hometeam_id, which will give you the identity of the home team. The query is then filtered by season and grouped by team. The results look like this\n",
    "\n",
    "\n",
    "|team            |home_avg|\n",
    "| -------------- | ------ | \n",
    "|1. FC Köln      |1.14    |\n",
    "|1. FC Nuernberg |1.30    |\n",
    "|1. FSV Mainz 05 |1.44    |\n",
    "|AC Ajaccio      |1.12    | \n",
    "\n",
    "--> an average value calculated for each team in the table.\n",
    "\n",
    "In order to get only the top team as a final result, place this ENTIRE query without the semicolon inside the FROM statement of an outer query, make sure to give it an alias, then add it to the main query, selecting the team, and home_avg columns from the subquery, just as you would with any other table in the database.\n",
    "Finally, don't forget to order by home_avg, descending, and limit the query to 3 results. \n",
    "\n",
    "\n",
    "```sql\n",
    "SELECT team_ home_avg\n",
    "FROM (SELECT \n",
    "      t.team_long_name as team, \n",
    "      AVG(m.home_goal) as home_avg\n",
    "    FROM match AS m\n",
    "    LEFT JOIN team as t\n",
    "    ON m.home_team_id = t.team_api_id\n",
    "    WHERE season = '2011/2012'\n",
    "    GROUP BY team) AS subquery\n",
    "ORDER BY home_avg DESC\n",
    "LIMIT 3;\n",
    "```\n",
    "\n",
    "|team           |home_avg|\n",
    "| ------------- | ------ | \n",
    "|FC Barcelona   |1.14    |\n",
    "|Real Madrid FC |1.30    |\n",
    "|PSV            |1.44    |\n",
    "\n",
    "\n",
    "\n",
    "The final query returns your top 3 teams based on home_goals scored in the 2011/2012 season. And it seems our top team for that season is Barcelona!\n",
    "\n",
    "\n",
    "There are a few key things to remember when using subqueries in the FROM statement:\n",
    "\n",
    "- you have the ability to create more than one subquery in the FROM statement of any main query. When you do so, make sure that you \n",
    "    - give each subquery an alias\n",
    "    - make sure that you are able to JOIN them to each other, just as you would when querying a table from your database.\n",
    "- you can join a subquery to any existing table in your database. \n",
    "    - you need to make sure you have a column in the subquery that you can use with the JOIN you'd like to perform."
   ]
  },
  {
   "cell_type": "markdown",
   "metadata": {},
   "source": [
    "### Subqueries in SELECT\n",
    "\n",
    "\n",
    "So far, we've covered the use of simple subqueries in FROM and WHERE statements. Subqueries can also be included in a **SELECT** statement to bring summary values into a detailed data set.\n",
    "\n",
    "**Subqueries in SELECT are used to return a single, aggregate value.**\n",
    "\n",
    "This can be fairly useful, since, as you'll recall, you cannot include an aggregate value in an ungrouped SQL query. Subqueries in SELECT are one way to get around that. Subqieries in SELECT are also useful when performing complex mathematical calculations on information in your data set. For example, you may want to see how much an individual score deviates from an average -- say, how higher than the average is this individual score?\n",
    "\n",
    "Including a subquery in SELECT is fairly simple, and is set up the same way you set up subqueries in the WHERE and FROM clauses. Let's say we want to create a column to compare the total number of matches played in each season to the total number of matches played OVERALL. We can first calculate the overall count of matches across all seasons, which is 12,837.\n",
    "\n",
    "We can then add that single number to the SELECT statement, which yields the following results...\n",
    "...or, we can skip that step, and add the subquery directly to the SELECT statement to get identical results.\n",
    "\n",
    "Subqueries in SELECT are also incredibly useful for calculations with the data you are querying. The single value returned by a subquery in select can be used to calculate information based on existing information in a database. For example, the overall average number of goals scored in a match across all seasons is 2.72. If you want to calculate the difference from the average in any given match, you can either calculate this number ahead of time in a separate query, and input the value into the SELECT statement...\n",
    "\n",
    "```sql\n",
    "SELECT AVG(home_goal + away_goal)\n",
    "FROM match\n",
    "WHERE season = '2011/2012'\n",
    "```\n",
    "|2.72|\n",
    "\n",
    "```sql\n",
    "SELECT \n",
    "    date,\n",
    "    (home_goal + away_goal) AS goals\n",
    "    (home_goal + away_goal) - 2.72 as diff\n",
    "FROM match\n",
    "WHERE season = '2011/2012'\n",
    "```\n",
    "\n",
    "...or you can use a subquery that calculates this value for you in your SELECT statement, and subtract it from the total goals in that match. \n",
    "\n",
    "```sql\n",
    "SELECT \n",
    "    date,\n",
    "    (home_goal + away_goal) AS goals\n",
    "    (home_goal + away_goal) - \n",
    "    (SELECT AVG(home_goal + away_goal)\n",
    "    FROM match\n",
    "    WHERE season = '2011/2012') AS diff\n",
    "FROM match\n",
    "WHERE season = '2011/2012'\n",
    "```\n",
    "\n",
    "Overall, this second option can save you a lot of time and errors in your work, and the results you see here, are identical to calculating the result manually.\n",
    "\n",
    "There are a few unique considerations when working with subqueries in SELECT. \n",
    "\n",
    "- subquery needs to return a single value. If your subquery result returns multiple rows, your entire query will generate an error. \n",
    "- Make sure you have all filters in the right place."
   ]
  },
  {
   "cell_type": "markdown",
   "metadata": {},
   "source": [
    "### Subqueries best practice\n",
    "\n",
    "In SQL, you can include as many simple subqueries as you need within multiple clauses within your query. However, your queries can quickly become long, and difficult to read.\n",
    "\n",
    "For example, the query you see here includes a subquery in the SELECT, FROM, and WHERE statements. You don't have to read through this now, but it's worth getting a sense of how extensive SQL queries can get, and discuss some best practices for reading, and writing large queries.\n",
    "\n",
    "\n",
    "<figure>\n",
    "  <img src=\"images/Subquery_complex.png\" alt=\"Subquery_complex\" style=\"width:40%\">\n",
    "  <figcaption>Fig. - A complex subquery that is difficult to read.</figcaption>\n",
    "</figure>\n",
    "\n",
    "\n",
    "#### Format your queries\n",
    "\n",
    "The best practice you can start early on in your SQL journey is properly formatting your queries. It's important to properly line up your SELECT, FROM, GROUP BY, and WHERE statements, and all of the information contained in them. This way, you and others you work with can return to a saved query and easily tell if these statements are part of a main query, or a subquery.\n",
    "\n",
    "```sql\n",
    "SELECT\n",
    "    col1,\n",
    "    col2,\n",
    "    col3\n",
    "FROM table1\n",
    "WHERE col1 = 2;\n",
    "```\n",
    "\n",
    "#### Annotate your queries\n",
    "\n",
    "It's also considered best practice to annotate your queries with comments in order to tell the user what it does -- using either a multiple line comment, inside a forward slash, star, and ending with a star, and a forward slash.\n",
    "\n",
    "```sql\n",
    "/* This query filters for col1 = 2\n",
    "and only selects data from table1 */\n",
    "SELECT\n",
    "    col1,\n",
    "    col2,\n",
    "    col3\n",
    "FROM table1\n",
    "WHERE col1 = 2;\n",
    "```\n",
    "\n",
    "You can also use in-line comments using two dashes. Every piece of information after an in-line comment is treated as text, even if it's a recognized SQL command.\n",
    "\n",
    "```sql\n",
    "/* This query filters for col1 = 2\n",
    "and only selects data from table1 */\n",
    "SELECT\n",
    "    col1,\n",
    "    col2,\n",
    "    col3\n",
    "FROM table1 -- this table has 10000 rows\n",
    "WHERE col1 = 2; -- Filter WHERE value 2\n",
    "```\n",
    "\n",
    "#### Indent your queries\n",
    "\n",
    "Make sure that you properly indent all information contained within a subquery. That way, you can easily return to the query and understand what information is being processed first, where you need to apply changes, such as to a range of dates, and what you can expect from your results if you make those changes.\n",
    "\n",
    "```sql\n",
    "SELECT\n",
    "    col1,\n",
    "    col2,\n",
    "    col3\n",
    "FROM table1\n",
    "WHERE col1 IN\n",
    "           (SELECT id\n",
    "            FROM table2\n",
    "            WHERE year = 1991);\n",
    "```\n",
    "Make sure that you clearly indent all information that's part of a single column, such as a long CASE statement, or a complicated subquery in SELECT. \n",
    "\n",
    "\n",
    "<figure>\n",
    "  <img src=\"images/Subquery_complex_2.png\" alt=\"Subquery_complex_2\" style=\"width:30%\">\n",
    "  <figcaption>Fig. - A complex subquery properly filtered.</figcaption>\n",
    "</figure>\n",
    "\n",
    "In order to best keep track of all the conditions necessary to set up each WHEN clause, each THEN clause, and how they create the column outcome, it's important to clearly indent each piece of information in the statement. Overall, I highly recommend you read Holywell's SQL Style Guide to get a sense of all the formatting conventions when working with SQL queries.\n",
    "\n",
    "#### Is that subquery necessary?\n",
    "\n",
    "When deciding whether or not you need a subquery, it's important to know that each subquery you add requires additional computing power to generate your results. Depending on the size of your database and the number of records you extract in your query, you may significantly increase the amount of time it takes to run your query. So it's always worth asking whether or not a specific subquery is necessary to get the results you need.\n",
    "\n",
    "#### Properly filter each subquery!\n",
    "\n",
    "Finally, when constructing a main query with multiple subquery, make sure that your filters are properly placed in every subquery, and the main query, in order to generate accurate results. \n",
    "\n",
    "<figure>\n",
    "  <img src=\"images/Subquery_filter.png\" alt=\"Subquery_filter\" style=\"width:40%\">\n",
    "  <figcaption>Fig. - A subquery with multiple filters.</figcaption>\n",
    "</figure>\n",
    "\n",
    "The query here, for example, filters for the 2013/2014 season in 3 places -- once in the SELECT subquery, once in the WHERE subquery, and once in the main query. This ensures that all data returned is only about matches from the 2013/2014 season."
   ]
  },
  {
   "cell_type": "markdown",
   "metadata": {},
   "source": [
    "## Correlated subqueries\n",
    "\n",
    "Now that you've covered the basics of simple subqueries, let's learn how to construct correlated subqueries.\n",
    "\n",
    "Correlated subqueries are a special kind of subquery that use values from the outer query in order to generate the final results. The subquery is re-executed each time a new row in the final data set is returned, in order to properly generate each new piece of information. Correlated subqueries are used for special types of calculations, such as \n",
    "\n",
    "- advanced joining, \n",
    "- filtering, and \n",
    "- evaluating of data in the database.\n",
    "\n",
    "Let's walk through an example of one of these queries. In the previous chapter, you completed an exercise that answered the question, \"Which match stages, where the stakes get higher in each stage, tend to have a higher than average number of goals scored?\"\n",
    "You achieved this using 3 simple subqueries in the SELECT, FROM, and WHERE statements. \n",
    "\n",
    "```sql\n",
    "SELECT \n",
    "\t-- Select the stage and average goals from s\n",
    "\ts.stage,\n",
    "\tROUND(s.avg_goals,2) AS avg_goal,\n",
    "    -- Select the overall average for 2012/2013\n",
    "\t(SELECT AVG(home_goal + away_goal) \n",
    "     FROM match \n",
    "     WHERE season = '2012/2013') AS overall_avg\n",
    "FROM \n",
    "\t-- Select the stage and average goals in 2012/2013 from match\n",
    "\t(SELECT\n",
    "         stage,\n",
    "         AVG(home_goal + away_goal) AS avg_goals\n",
    "     FROM match\n",
    "     WHERE season = '2012/2013'\n",
    "     GROUP BY stage) AS s\n",
    "WHERE \n",
    "\t-- Filter the main query using the subquery\n",
    "\ts.avg_goals > (SELECT AVG(home_goal + away_goal) \n",
    "                   FROM match \n",
    "                   WHERE season = '2012/2013');\n",
    "```\n",
    "\n",
    "However, the same output can also be produced with a correlated subquery. Let's focus on the subquery in the WHERE statement.\n",
    "\n",
    "```sql\n",
    "SELECT \n",
    "\t-- Select the stage and average goals from s\n",
    "\ts.stage,\n",
    "\tROUND(s.avg_goals,2) AS avg_goal,\n",
    "    -- Select the overall average for 2012/2013\n",
    "\t(SELECT AVG(home_goal + away_goal) \n",
    "     FROM match \n",
    "     WHERE season = '2012/2013') AS overall_avg\n",
    "FROM \n",
    "\t-- Select the stage and average goals in 2012/2013 from match\n",
    "\t(SELECT\n",
    "         stage,\n",
    "         AVG(home_goal + away_goal) AS avg_goals\n",
    "     FROM match\n",
    "     WHERE season = '2012/2013'\n",
    "     GROUP BY stage) AS s\n",
    "WHERE s.avg_goals > (SELECT AVG(home_goal + away_goal) \n",
    "                   FROM match as m\n",
    "                   WHERE s.stage > m.stage);\n",
    "```\n",
    "\n",
    "This query has only one difference -- instead of including a filter by season, the WHERE clause filters for data where the outer table's match stage, pulled from the subquery in FROM, is HIGHER than the overall average generated in the WHERE subquery. The entire WHERE statement is saying, in essence, \"return stages where the values in the subquery are higher than the average.\"\n",
    "\n",
    "Here are the results generated by this query. \n",
    "\n",
    "|stage|avg_goals|\n",
    "|-----|---------|\n",
    "|3    |2.83     |\n",
    "|4    |2.8      |\n",
    "|6    |2.78     |\n",
    "|8    |3.09     |\n",
    "|10   |2.96     |\n",
    "\n",
    "This may seem a bit complicated, but with a few more examples and a bit of practice, you will start to get the hang of how useful correlated subqueries can be.\n",
    "\n",
    "Let's quickly walk through some key differences between simple and correlated subqueries. Simple subqueries can be used in extracting, structuring or filtering information, and can run independent of the main query. In contrast, a correlated subquery cannot be executed on its own because it's dependent on values in the main query. Additionally, a simple subquery is evaluated once in the entire statement. A correlated subquery is evaluated in loops -- once for each row generated by the data set. This means that adding correlated subqueries will slow down your query performance, since your query is recalculating information over and over. Be careful not to include too many correlated subqueries -- or your query may take a long time to run!\n",
    "\n",
    "Here's another, smaller example of a query in which you can use a correlated subquery. Let's answer the question, \"What is the average number of goals scored in each country across all match seasons?\" This is an an easy enough question, right? You simply join the match table to the country table on the country's id, and extract the country's name, take an average of the goals scored, and group the entire query by the country's name, yielding one row with an average value per country.\n",
    "\n",
    "```sql\n",
    "SELECT \n",
    "    c.name AS country\n",
    "    AVG(m.home_goal + m.away_goal) AS avg_goals\n",
    "FROM country as c\n",
    "LEFT JOIN match AS m\n",
    "ON c.id = m.country_id\n",
    "GROUP BY country\n",
    "```\n",
    "\n",
    "A correlated subquery can be used here in lieu of a join. \n",
    "\n",
    "```sql\n",
    "SELECT \n",
    "    c.name AS country\n",
    "    (SELECT AVG(home_goal + away_goal)\n",
    "     FROM match AS m\n",
    "     WHERE m.country_id = c.id) AS avg_goals\n",
    "FROM country as c\n",
    "GROU BY country;\n",
    "```\n",
    "Take a look at the outer query first. The name of the country is selected from the country table, aliased as \"c\". The second column selected is a scalar subquery, selecting the average total goals scored across all seasons from the match table. You'll notice that the WHERE clause asks SQL to return values where the inner, match table's country_id column matches the c.id column in the outer query's country table. This way, the entire join is replaced, and the results are identical.\n",
    "\n",
    "10. Let's practice!\n",
    "Okay! It's time to practice using correlated subqueries."
   ]
  },
  {
   "cell_type": "markdown",
   "metadata": {},
   "source": [
    "## Windowing functions\n",
    "\n",
    "Let's tackle another limitation you've likely encountered in SQL -- the fact that you have to group results when using aggregate functions. If you try to retrieve additional information without grouping by every single non-aggregate value, your query will return an error. \n",
    "\n",
    "```sql\n",
    "SELECT \n",
    "    country_id,\n",
    "    season,\n",
    "    date,\n",
    "    AVG(home_goal) AS avg_home\n",
    "FROM match\n",
    "GROUP BY country_id\n",
    "```\n",
    "\n",
    "**ERROR: column \"match.season\" must appear in th GROUP BY clause or be used in an aggregate function**\n",
    "\n",
    "Thus, you can't compare aggregate values to non-aggregate data.\n",
    "\n",
    "You can work around this limitation using a **window function**. \n",
    "Window functions are a class of functions that perform calculations on a result set that has already been generated, also referred to as a \"window\". You can use window functions to perform aggregate calculations without having to group your data, just as you did with a subquery in SELECT. You can also use them to calculate information such as running totals, rankings, and moving averages.\n",
    "\n",
    "So what's a window function? How do you use it? Let's start with a query from chapter 2, where we answered the question, \"how many goals were scored in each match in 2011/2012, and how did that compare to the average?\" \n",
    "\n",
    "```sql\n",
    "SELECT \n",
    "    date,\n",
    "    (home_goal + away_goal) AS goals\n",
    "    (SELECT AVG(home_goal + away_goal)\n",
    "         FROM match\n",
    "         WHERE season = '2011/2012') as overall_avg\n",
    "FROM match\n",
    "WHERE season = '2011/2012'\n",
    "```\n",
    "\n",
    "This query selects two columns from match table, and then used a subquery in SELECT to pass the overall average along the data set without aggregating the results.\n",
    "\n",
    "The same results can be generated using the clause common to all window functions -- the **OVER clause**. \n",
    "\n",
    "```sql\n",
    "SELECT \n",
    "    date,\n",
    "    (home_goal + away_goal) AS goals\n",
    "    AVG(home_goal + away_goal) OVER() AS overall_avg\n",
    "FROM match\n",
    "WHERE season = '2011/2012'\n",
    "```\n",
    "\n",
    "Instead of writing a subquery, calculate the AVG of home_goal and away_goal, and follow it with the OVER clause. This clause tells SQL to \"pass this aggregate value over this existing result set.\" \n",
    "\n",
    "|date      |goals|overall_avg|\n",
    "|----------|-----|-----------|\n",
    "|2011-07-29|3    |2.72       |\n",
    "|2011-07-30|2    |2.72       |\n",
    "|2011-07-30|4    |2.72       |\n",
    "|2011-07-30|1    |2.72       |\n",
    "\n",
    "The results are identical to the previous statement that used a subquery in SELECT, with a simpler syntax and faster processing time.\n",
    "\n",
    "\n",
    "Another simple type of column you can generate with a window function is a **RANK**. A RANK simply creates a column numbering your data set from highest to lowest, or lowest to highest, based on a column that you specify. Let's take the same query as the previous example, without the window function, and use it to answer the question -- what is the RANK of matches based on the number of goals scored?\n",
    "\n",
    "```sql\n",
    "SELECT \n",
    "    date,\n",
    "    (home_goal + away_goal) AS goals\n",
    "FROM match\n",
    "WHERE season = '2011/2012'\n",
    "```\n",
    "\n",
    "|date      |goals|\n",
    "|----------|-----|\n",
    "|2011-07-29|3    |\n",
    "|2011-07-30|2    |\n",
    "|2011-07-30|4    |\n",
    "|2011-07-30|1    |\n",
    "\n",
    "\n",
    "We can answer this using the RANK window function. In order to set this up, let's add a new column in SELECT as you see here. \n",
    "\n",
    "```sql\n",
    "SELECT \n",
    "    date,\n",
    "    (home_goal + away_goal) AS goals\n",
    "    RANK()OVER(ORDER BY home_goal + away_goal) as goal_ranks\n",
    "FROM match\n",
    "WHERE season = '2011/2012'\n",
    "```\n",
    "\n",
    "To create the rank, you start with the RANK function, using parentheses, followed by the OVER clause. Inside the OVER clause, include the ORDER BY clause, and the column or columns you want to use to generate the rank. By default, the RANK function orders the results and ranking from smallest to largest values. \n",
    "\n",
    "|date      |goals|goals_rank|\n",
    "|----------|-----|----------|\n",
    "|2012-04-28|0    |1         |\n",
    "|2011-12-26|0    |1         |\n",
    "|2011-09-10|0    |1         |\n",
    "|2011-08-27|0    |1         |\n",
    "\n",
    "In the case of our data set here, this isn't particularly informative.\n",
    "\n",
    "You can easily correct this by adding the DESC function to reverse the order of the rank, just as you would if you were using ORDER BY at the end of your query. \n",
    "\n",
    "```sql\n",
    "SELECT \n",
    "    date,\n",
    "    (home_goal + away_goal) AS goals\n",
    "    RANK()OVER(ORDER BY home_goal + away_goal DESC) as goal_ranks\n",
    "FROM match\n",
    "WHERE season = '2011/2012'\n",
    "```\n",
    "|date      |goals|goals_rank|\n",
    "|----------|-----|----------|\n",
    "|2011-11-06|10   |1         |\n",
    "|2011-08-28|10   |1         |\n",
    "|2012-05-12|9    |3         |\n",
    "|2012-02-12|9    |3         |\n",
    "\n",
    "You'll notice that the RANK function automatically ties identical values, such as the first 2 results, and then skips the next value in the rank.\n",
    "\n",
    "There are a few key considerations when using window functions. \n",
    "- First, window functions are processed after the entire query except the final ORDER BY statement. Thus, the window function uses the result set to calculate information, as opposed to using the database directly. \n",
    "- Second, it's important to know that window functions are available in PostgreSQL, Oracle, MySQL, but not in SQLite."
   ]
  },
  {
   "cell_type": "markdown",
   "metadata": {},
   "source": [
    "### OVER and PARTITION BY\n",
    "\n",
    "The real bread and butter of window functions that differentiates them from subqueries in select, are in the functions you can add within the OVER clause.\n",
    "\n",
    "One important statement you can add to your OVER clause is PARTITION BY. A partition allows you to calculate separate values for different categories established in a partition. This is one way to calculate different aggregate values within one column of data, and pass them down a data set, instead of having to calculate them in different columns. The syntax for a partition is fairly simple. \n",
    "\n",
    "```sql\n",
    "AVG(home_goal)OVER(PARTITION BY season) \n",
    "```\n",
    "Just like before, use an aggregate function to compute a calculation, such as the AVG of the home_goal column. You then add the OVER clause afterward, and inside the parentheses, state PARTITION BY, followed by the column you want to partition the average by. This will then return the overall average for, or PARTITIONed BY each season.\n",
    "\n",
    "Let's take a look at how this works in a query. This is the example query from the previous lesson, answering the question, \n",
    "\n",
    "*How many goals were scored in each match, and how did that compare to the overall average?* \n",
    "\n",
    "```sql\n",
    "SELECT \n",
    "    date,\n",
    "    (home_goal + away_goal) AS goals\n",
    "    AVG(home_goal + away_goal) OVER() AS overall_avg\n",
    "FROM match\n",
    "```\n",
    "\n",
    "This is accomplished using the OVER clause, and the query returns the date, goals scored, and overall average.\n",
    "\n",
    "Let's expand on the previous question, and instead ask, \n",
    "\n",
    "*How many goals were scored in each match, and how did that compare to the season's average?*\n",
    "\n",
    "We can do this by adding a PARTITION BY clause to the OVER clause from the previous slide. \n",
    "\n",
    "```sql\n",
    "SELECT \n",
    "    date,\n",
    "    (home_goal + away_goal) AS goals\n",
    "    AVG(home_goal + away_goal) OVER(PARTITION BY season) AS season_avg\n",
    "FROM match\n",
    "```\n",
    "\n",
    "Specifying, \"PARTITION BY season\" returns each season's average on each row, in accordance to the season that each record belongs to. \n",
    "\n",
    "|date      |goals|season_avg|\n",
    "|----------|-----|----------|\n",
    "|2011-12-17|3    |2.717     |\n",
    "|2012-05-01|2    |2.717     |\n",
    "|2012-11-27|4    |2.773     |\n",
    "|2013-04-20|1    |2.773     |\n",
    "|2013-11-09|5    |2.767     |\n",
    "\n",
    "\n",
    "As you can see, rows 1 and 2 are matches played in the 2011/2012 season, and the season_avg column contains the 2011/2012 season average. Rows 3 and 4 are part of the 2012/2013 season, and return the 2012/2013 season average.\n",
    "\n",
    "You can also use PARTITION to calculate values broken out by multiple columns. \n",
    "\n",
    "```sql\n",
    "SELECT \n",
    "    c.name,\n",
    "    m.season,\n",
    "    (home_goal + away_goal) AS goals,\n",
    "    AVG(home_goal + away_goal) OVER(PARTITION BY m.season, c.name) AS season_avg\n",
    "FROM country AS c\n",
    "LEFT JOIN match AS m\n",
    "ON c.id = m.country_id\n",
    "```\n",
    "\n",
    "In the query you see here, the OVER clause contains two columns to partition the AVG goals scored--season, and country. \n",
    "\n",
    "|name       |season   |goals|season_ctry_avg|\n",
    "|-----------|---------|-----|---------------|\n",
    "|Belgium    |2011/2012|1    |2.88           |\n",
    "|Netherlands|2014/2015|1    |3.08           |\n",
    "|Belgium    |2011/2012|1    |2.88           |\n",
    "|Spain      |2014/2015|1    |2.66           |\n",
    "\n",
    "The result set returns the average goals scored broken out by season and country. \n",
    "In row 1, a match was played in Belgium in the 2011/2012 season, and had 1 goal scored throughout the match. This is compared to the 2.88, which is the average goals scored in Belgium in the 2011/2012 season.\n",
    "\n",
    "PARTITION BY is a pretty straight forward addition to the OVER clause. You can partition calculations by 1 or more columns as necessary to answer a question you may have. Additionally, you can use a PARTITION with any kind of window function -- calculation, rank, or others that we will discuss further in the following lesson."
   ]
  },
  {
   "cell_type": "markdown",
   "metadata": {},
   "source": [
    "### Sliding window\n",
    "\n",
    "In addition to calculating aggregate and rank information, window functions can also be used to calculate information that changes with each subsequent row in a data set.\n",
    "\n",
    "These types of window functions are called **sliding windows**. Sliding windows are functions that perform calculations relative to the current row of a data set. You can use sliding windows to calculate a wide variety of information that aggregates one row at a time down your data set:\n",
    "- running totals\n",
    "- sums \n",
    "- counts and \n",
    "- averages in any order you need. \n",
    "\n",
    "A sliding window calculation can also be partitioned by one or more columns, just like a non-sliding window.\n",
    "\n",
    "A sliding window function contains specific functions within the OVER clause to specify the data you want to use in your calculations. The general syntax looks like this:\n",
    "\n",
    "```sql\n",
    "ROWS BETWEEN <start> AND <finish>\n",
    "```\n",
    "\n",
    "you use the phrase ROWS BETWEEN to indicate that you plan on slicing information in your window function for each row in the data set, and then you specify the starting and finishing point of the calculation. \n",
    "For the start and finish in your ROWS BETWEEN statement, you can specify a number of keywords:\n",
    "\n",
    "- PRECEDING\n",
    "- FOLLOWING\n",
    "- UNBOUNDED PRECEDING\n",
    "- UNBOUNDED FOLLOWING\n",
    "- CURRENT ROW\n",
    "\n",
    "PRECEDING and FOLLOWING are used to specify the number of rows before, or after, the current row that you want to include in a calculation. \n",
    "UNBOUNDED PRECEDING and UNBOUNDED FOLLOWING tell SQL that you want to include every row since the beginning, or the end, of the data set in your calculations. \n",
    "Finally, CURRENT ROW tells SQL that you want to stop your calculation at the current row.\n",
    "\n",
    "For example, the sliding window in this query includes several key pieces of information in its calculation. \n",
    "\n",
    "```sql\n",
    "SELECT \n",
    "    date,\n",
    "    home_goal,\n",
    "    away_goal,\n",
    "    SUM(home_goal)\n",
    "        OVER(ORDER BY date ROWS BETWEEN\n",
    "             UNBOUNDED PRECEDING AND CURRENT ROW) AS running_total\n",
    "FROM match\n",
    "WHERE hometeam_id = 8456 AND awayteam_id = 8456\n",
    "```\n",
    "\n",
    "It first states that the goal is to calculate a sum of goals scored when Manchester City played as the home team during the 2011/2012 season. It then tells you that you want to turn this calculation into a running total, ordered by the date of the match from oldest to most recent and calculated from the beginning of the data set to the current row. Your resulting data set looks like this, with a column calculating the total number of goals scored across the season, with a final total listed in the last row.\n",
    "\n",
    "|date      |home_goal|away_goal|running_total|\n",
    "|----------|---------|---------|-------------|\n",
    "|2011-08-15|4        |0        |4            |\n",
    "|2011-09-10|3        |0        |7            |\n",
    "|2011-09-24|2        |0        |9            |\n",
    "|2011-10-15|4        |1        |13           |\n",
    "\n",
    "Using the PRECEDING statement, you also have the ability to calculate sliding windows with a more limited frame. For example, the query you see here is similar to the previous one, with a slightly modified sliding window. \n",
    "\n",
    "```sql\n",
    "SELECT \n",
    "    date,\n",
    "    home_goal,\n",
    "    away_goal,\n",
    "    SUM(home_goal)\n",
    "        OVER(ORDER BY date ROWS BETWEEN\n",
    "             1 PRECEDING AND CURRENT ROW) AS last2\n",
    "FROM match\n",
    "WHERE hometeam_id = 8456 AND awayteam_id = 8456\n",
    "```\n",
    "\n",
    "The phrase UNBOUNDED PRECEDING is replaced here with the phrase 1 PRECEDING, which calculates the sum of Manchester City's goals in the current and previous match. \n",
    "\n",
    "|date      |home_goal|away_goal|running_total|\n",
    "|----------|---------|---------|-------------|\n",
    "|2011-08-15|4        |0        |4            |\n",
    "|2011-09-10|3        |0        |7            |\n",
    "|2011-09-24|2        |0        |5            |\n",
    "|2011-10-15|4        |1        |6           |\n",
    "\n",
    "As you see in the data set here, the two rows in red are used to calculate the sum on the second row, and the two rows in green are used to calculate the sum on the third row."
   ]
  },
  {
   "cell_type": "code",
   "execution_count": null,
   "metadata": {},
   "outputs": [],
   "source": []
  }
 ],
 "metadata": {
  "kernelspec": {
   "display_name": "Python 3 (ipykernel)",
   "language": "python",
   "name": "python3"
  },
  "language_info": {
   "codemirror_mode": {
    "name": "ipython",
    "version": 3
   },
   "file_extension": ".py",
   "mimetype": "text/x-python",
   "name": "python",
   "nbconvert_exporter": "python",
   "pygments_lexer": "ipython3",
   "version": "3.9.7"
  }
 },
 "nbformat": 4,
 "nbformat_minor": 4
}
